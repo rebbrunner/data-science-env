{
  "cells": [
    {
      "cell_type": "markdown",
      "metadata": {
        "id": "YLvWmcqCC_la"
      },
      "source": [
        "# Model Architecture"
      ]
    },
    {
      "cell_type": "code",
      "execution_count": 60,
      "metadata": {
        "id": "tL9tMFLlC_ld"
      },
      "outputs": [],
      "source": [
        "import datetime, collections\n",
        "\n",
        "import numpy as np\n",
        "\n",
        "import torch\n",
        "import torch.nn as nn\n",
        "import torch.nn.functional as F\n",
        "import torch.optim as optim\n",
        "\n",
        "from torchvision import datasets, transforms\n",
        "\n",
        "import matplotlib.pyplot as plt"
      ]
    },
    {
      "cell_type": "markdown",
      "metadata": {
        "id": "gLvJGj4bC_le"
      },
      "source": [
        "## CNN Network"
      ]
    },
    {
      "cell_type": "code",
      "execution_count": 2,
      "metadata": {
        "id": "CqM4U713C_le"
      },
      "outputs": [],
      "source": [
        "data_path = '../data/deep-learning-with-python-data/tiny-images/'"
      ]
    },
    {
      "cell_type": "code",
      "execution_count": 3,
      "metadata": {
        "colab": {
          "base_uri": "https://localhost:8080/"
        },
        "id": "FVApL2soC_lf",
        "outputId": "690bdbe1-ea68-4c59-c0fa-105bf94bfb84"
      },
      "outputs": [
        {
          "output_type": "stream",
          "name": "stdout",
          "text": [
            "Files already downloaded and verified\n"
          ]
        }
      ],
      "source": [
        "cifar10 = datasets.CIFAR10(\n",
        "    data_path, train=True, download=True,\n",
        "    transform=transforms.Compose([\n",
        "        transforms.ToTensor(),\n",
        "        transforms.Normalize((0.4915, 0.4823, 0.4468),\n",
        "                             (0.2470, 0.2435, 0.2616))\n",
        "    ]))"
      ]
    },
    {
      "cell_type": "code",
      "execution_count": 4,
      "metadata": {
        "colab": {
          "base_uri": "https://localhost:8080/"
        },
        "id": "EgQ7hxAQC_lg",
        "outputId": "7caa2596-31d7-45ea-82e2-ff6bbf369cc1"
      },
      "outputs": [
        {
          "output_type": "stream",
          "name": "stdout",
          "text": [
            "Files already downloaded and verified\n"
          ]
        }
      ],
      "source": [
        "cifar10_val = datasets.CIFAR10(\n",
        "    data_path, train=False, download=True,\n",
        "    transform=transforms.Compose([\n",
        "        transforms.ToTensor(),\n",
        "        transforms.Normalize((0.4915, 0.4823, 0.4468),\n",
        "                             (0.2470, 0.2435, 0.2616))\n",
        "    ]))"
      ]
    },
    {
      "cell_type": "code",
      "execution_count": 5,
      "metadata": {
        "id": "yGiB6DGTC_lh"
      },
      "outputs": [],
      "source": [
        "label_map = {0: 0, 2: 1}\n",
        "class_names = ['airplane', 'bird']\n",
        "cifar2 = [(img, label_map[label])\n",
        "          for img, label in cifar10\n",
        "          if label in [0, 2]]\n",
        "cifar2_val = [(img, label_map[label])\n",
        "              for img, label in cifar10_val\n",
        "              if label in [0, 2]]"
      ]
    },
    {
      "cell_type": "code",
      "execution_count": 6,
      "metadata": {
        "id": "GJEQ9bVQC_lh"
      },
      "outputs": [],
      "source": [
        "connected_model = nn.Sequential(\n",
        "    nn.Linear(3072, 1024), # Linear model is basically equivalent to Keras' Dense layer without activation function applied\n",
        "    nn.Tanh(),\n",
        "    nn.Linear(1024, 512),\n",
        "    nn.Tanh(),\n",
        "    nn.Linear(512, 128),\n",
        "    nn.Tanh(),\n",
        "    nn.Linear(128, 2)\n",
        ")"
      ]
    },
    {
      "cell_type": "code",
      "execution_count": 7,
      "metadata": {
        "colab": {
          "base_uri": "https://localhost:8080/"
        },
        "id": "xSrFn02KC_lh",
        "outputId": "6be58c8c-4ae4-426f-fce0-f7ebaa448dfa"
      },
      "outputs": [
        {
          "output_type": "execute_result",
          "data": {
            "text/plain": [
              "(3737474, [3145728, 1024, 524288, 512, 65536, 128, 256, 2])"
            ]
          },
          "metadata": {},
          "execution_count": 7
        }
      ],
      "source": [
        "# Showing parameters for fully connected (dense) model for images\n",
        "numel_list = [p.numel()\n",
        "              for p in connected_model.parameters()\n",
        "              if p.requires_grad == True]\n",
        "sum(numel_list), numel_list"
      ]
    },
    {
      "cell_type": "code",
      "execution_count": 8,
      "metadata": {
        "id": "8py0oQolC_li"
      },
      "outputs": [],
      "source": [
        "first_model = nn.Sequential(\n",
        "                nn.Linear(3072, 512),\n",
        "                nn.Tanh(),\n",
        "                nn.Linear(512, 2),\n",
        "                nn.LogSoftmax(dim=1))"
      ]
    },
    {
      "cell_type": "code",
      "execution_count": 9,
      "metadata": {
        "colab": {
          "base_uri": "https://localhost:8080/"
        },
        "id": "w7nvFnycC_li",
        "outputId": "f21ec14f-8a87-49d6-bbb5-e94a632f6d16"
      },
      "outputs": [
        {
          "output_type": "execute_result",
          "data": {
            "text/plain": [
              "(1574402, [1572864, 512, 1024, 2])"
            ]
          },
          "metadata": {},
          "execution_count": 9
        }
      ],
      "source": [
        "numel_list = [p.numel() for p in first_model.parameters()]\n",
        "sum(numel_list), numel_list"
      ]
    },
    {
      "cell_type": "code",
      "execution_count": 10,
      "metadata": {
        "colab": {
          "base_uri": "https://localhost:8080/"
        },
        "id": "GNAu99XYC_lj",
        "outputId": "7880fdfe-8025-4095-c850-1d6775a1ae57"
      },
      "outputs": [
        {
          "output_type": "execute_result",
          "data": {
            "text/plain": [
              "(torch.Size([1024, 3072]), torch.Size([1024]))"
            ]
          },
          "metadata": {},
          "execution_count": 10
        }
      ],
      "source": [
        "linear = nn.Linear(3072, 1024)\n",
        "\n",
        "linear.weight.shape, linear.bias.shape"
      ]
    },
    {
      "cell_type": "code",
      "execution_count": 11,
      "metadata": {
        "colab": {
          "base_uri": "https://localhost:8080/"
        },
        "id": "dYyknG2sC_lj",
        "outputId": "cd503e24-45d3-4f10-f354-c9b64524f157"
      },
      "outputs": [
        {
          "output_type": "execute_result",
          "data": {
            "text/plain": [
              "Conv2d(3, 16, kernel_size=(3, 3), stride=(1, 1))"
            ]
          },
          "metadata": {},
          "execution_count": 11
        }
      ],
      "source": [
        "# The convolution linear operation\n",
        "conv = nn.Conv2d(3, 16, kernel_size=3) # 3 x 3 x 3 -> 16 x 3 x 3, kernel size: 3 x 3\n",
        "conv"
      ]
    },
    {
      "cell_type": "code",
      "execution_count": 12,
      "metadata": {
        "colab": {
          "base_uri": "https://localhost:8080/"
        },
        "id": "Kt3jKtqnC_lj",
        "outputId": "74753b3c-b2a4-4c8f-882c-ecabca3dc732"
      },
      "outputs": [
        {
          "output_type": "execute_result",
          "data": {
            "text/plain": [
              "(torch.Size([16, 3, 3, 3]), torch.Size([16]))"
            ]
          },
          "metadata": {},
          "execution_count": 12
        }
      ],
      "source": [
        "conv.weight.shape, conv.bias.shape"
      ]
    },
    {
      "cell_type": "code",
      "execution_count": 13,
      "metadata": {
        "colab": {
          "base_uri": "https://localhost:8080/"
        },
        "id": "S-8VeuIeC_lk",
        "outputId": "e0c08b87-6880-48f2-de24-7d8c2890f356"
      },
      "outputs": [
        {
          "output_type": "execute_result",
          "data": {
            "text/plain": [
              "(torch.Size([1, 3, 32, 32]), torch.Size([1, 16, 30, 30]))"
            ]
          },
          "metadata": {},
          "execution_count": 13
        }
      ],
      "source": [
        "# Apply the convolution operation to one image in dataset - notice pixel loss\n",
        "img, _ = cifar2[0]\n",
        "output = conv(img.unsqueeze(0))\n",
        "img.unsqueeze(0).shape, output.shape"
      ]
    },
    {
      "cell_type": "code",
      "execution_count": 14,
      "metadata": {
        "colab": {
          "base_uri": "https://localhost:8080/",
          "height": 266
        },
        "id": "NnTZNGpVC_lk",
        "outputId": "38890748-bdec-49a0-d2ff-17c9f265b2b6"
      },
      "outputs": [
        {
          "output_type": "display_data",
          "data": {
            "image/png": "[encoded data removed]",
            "text/plain": [
              "<Figure size 432x288 with 1 Axes>"
            ]
          },
          "metadata": {
            "needs_background": "light"
          }
        }
      ],
      "source": [
        "plt.imshow(img.mean(0), cmap='gray')\n",
        "plt.show()"
      ]
    },
    {
      "cell_type": "code",
      "execution_count": 15,
      "metadata": {
        "colab": {
          "base_uri": "https://localhost:8080/",
          "height": 318
        },
        "id": "C6inh9VPC_ll",
        "outputId": "fbf7a50f-d8ac-4201-ccae-e8b5b5d00aa2"
      },
      "outputs": [
        {
          "output_type": "display_data",
          "data": {
            "image/png": "[encoded data removed]",
            "text/plain": [
              "<Figure size 720x345.6 with 2 Axes>"
            ]
          },
          "metadata": {
            "needs_background": "light"
          }
        }
      ],
      "source": [
        "plt.figure(figsize=(10, 4.8))\n",
        "ax1 = plt.subplot(1, 2, 1)\n",
        "plt.title('output')\n",
        "plt.imshow(output[0, 0].detach(), cmap='gray')\n",
        "plt.subplot(1, 2, 2, sharex=ax1, sharey=ax1)\n",
        "plt.imshow(img.mean(0), cmap='gray')\n",
        "plt.title('input')\n",
        "plt.show()"
      ]
    },
    {
      "cell_type": "code",
      "execution_count": 16,
      "metadata": {
        "colab": {
          "base_uri": "https://localhost:8080/"
        },
        "id": "hYoNvj-wC_ll",
        "outputId": "2ce24256-a738-4917-c6f9-7fb9e3262cf0"
      },
      "outputs": [
        {
          "output_type": "execute_result",
          "data": {
            "text/plain": [
              "(torch.Size([1, 3, 32, 32]), torch.Size([1, 1, 32, 32]))"
            ]
          },
          "metadata": {},
          "execution_count": 16
        }
      ],
      "source": [
        "# Applying padding so there is no data loss !important - keep kernel size as odd dimensions\n",
        "conv = nn.Conv2d(3, 1, kernel_size=3, padding=1) # <1>\n",
        "output = conv(img.unsqueeze(0))\n",
        "img.unsqueeze(0).shape, output.shape"
      ]
    },
    {
      "cell_type": "code",
      "execution_count": 17,
      "metadata": {
        "id": "4OX1eV07C_lm"
      },
      "outputs": [],
      "source": [
        "with torch.no_grad():\n",
        "    conv.bias.zero_()\n",
        "    \n",
        "with torch.no_grad():\n",
        "    conv.weight.fill_(1.0 / 9.0)"
      ]
    },
    {
      "cell_type": "code",
      "execution_count": 18,
      "metadata": {
        "colab": {
          "base_uri": "https://localhost:8080/",
          "height": 318
        },
        "id": "nLI14igxC_lm",
        "outputId": "32739db4-f7d3-42df-d12d-8027db27be39"
      },
      "outputs": [
        {
          "output_type": "display_data",
          "data": {
            "image/png": "[encoded data removed]",
            "text/plain": [
              "<Figure size 720x345.6 with 2 Axes>"
            ]
          },
          "metadata": {
            "needs_background": "light"
          }
        }
      ],
      "source": [
        "output = conv(img.unsqueeze(0))\n",
        "plt.figure(figsize=(10, 4.8))  # bookskip\n",
        "ax1 = plt.subplot(1, 2, 1)   # bookskip\n",
        "plt.title('output')   # bookskip\n",
        "plt.imshow(output[0, 0].detach(), cmap='gray')\n",
        "plt.subplot(1, 2, 2, sharex=ax1, sharey=ax1)  # bookskip\n",
        "plt.imshow(img.mean(0), cmap='gray')  # bookskip\n",
        "plt.title('input')  # bookskip\n",
        "plt.savefig('Ch8_F4_PyTorch.png')  # bookskip\n",
        "plt.show()"
      ]
    },
    {
      "cell_type": "code",
      "execution_count": 19,
      "metadata": {
        "id": "bp74HtVMC_ln"
      },
      "outputs": [],
      "source": [
        "conv = nn.Conv2d(3, 1, kernel_size=3, padding=1)\n",
        "\n",
        "with torch.no_grad():\n",
        "    conv.weight[:] = torch.tensor([[-1.0, 0.0, 1.0],\n",
        "                                   [-1.0, 0.0, 1.0],\n",
        "                                   [-1.0, 0.0, 1.0]])\n",
        "    conv.bias.zero_()"
      ]
    },
    {
      "cell_type": "code",
      "execution_count": 20,
      "metadata": {
        "colab": {
          "base_uri": "https://localhost:8080/",
          "height": 318
        },
        "id": "KuBUNU20C_ln",
        "outputId": "6df285d1-7db9-43f3-9e1f-279d5c75cca8"
      },
      "outputs": [
        {
          "output_type": "display_data",
          "data": {
            "image/png": "[encoded data removed]",
            "text/plain": [
              "<Figure size 720x345.6 with 2 Axes>"
            ]
          },
          "metadata": {
            "needs_background": "light"
          }
        }
      ],
      "source": [
        "# edge detection\n",
        "output = conv(img.unsqueeze(0))\n",
        "plt.figure(figsize=(10, 4.8))\n",
        "ax1 = plt.subplot(1, 2, 1)\n",
        "plt.title('output')\n",
        "plt.imshow(output[0, 0].detach(), cmap='gray')\n",
        "plt.subplot(1, 2, 2, sharex=ax1, sharey=ax1)\n",
        "plt.imshow(img.mean(0), cmap='gray')\n",
        "plt.title('input')\n",
        "plt.show()"
      ]
    },
    {
      "cell_type": "code",
      "execution_count": 21,
      "metadata": {
        "colab": {
          "base_uri": "https://localhost:8080/"
        },
        "id": "GU3_JMl3C_ln",
        "outputId": "bca1f3c8-6bb0-4c68-d95f-cf9511cd8570"
      },
      "outputs": [
        {
          "output_type": "execute_result",
          "data": {
            "text/plain": [
              "(torch.Size([1, 3, 32, 32]), torch.Size([1, 3, 16, 16]))"
            ]
          },
          "metadata": {},
          "execution_count": 21
        }
      ],
      "source": [
        "# The maxpool layer - takes the maximum value from overlapping samples in order to downsample image - basically allows \n",
        "# features to be learned across entire image instead of small segments\n",
        "pool = nn.MaxPool2d(2)\n",
        "output = pool(img.unsqueeze(0))\n",
        "\n",
        "img.unsqueeze(0).shape, output.shape"
      ]
    },
    {
      "cell_type": "code",
      "execution_count": 22,
      "metadata": {
        "id": "ZHOT8pCCC_lo"
      },
      "outputs": [],
      "source": [
        "model = nn.Sequential(\n",
        "    nn.Conv2d(3, 16, kernel_size=3, padding=1), # Upsample\n",
        "    nn.Tanh(),\n",
        "    nn.MaxPool2d(2),\n",
        "    nn.Conv2d(16, 8, kernel_size=3, padding=1), # Downsample\n",
        "    nn.Tanh(), # We need to convert to fully connected for output\n",
        "    nn.Linear(8 * 8 * 8, 32), # Need a way to flatten so the dimensions match, could use nn.Flatten\n",
        "    nn.Tanh(),\n",
        "    nn.Linear(32, 2)\n",
        ")"
      ]
    },
    {
      "cell_type": "code",
      "execution_count": 23,
      "metadata": {
        "id": "opSbV3FWC_lo"
      },
      "outputs": [],
      "source": [
        "# Creating our own custom layer/module/net - backward does not need to be defined because of autograd\n",
        "class Net(nn.Module):\n",
        "    def __init__(self):\n",
        "        super().__init__()\n",
        "        self.conv1 = nn.Conv2d(3, 16, kernel_size=3, padding=1)\n",
        "        self.act1 = nn.Tanh()\n",
        "        self.pool1 = nn.MaxPool2d(2)\n",
        "        self.conv2 = nn.Conv2d(16, 8, kernel_size=3, padding=1)\n",
        "        self.act2 = nn.Tanh()\n",
        "        self.pool2 = nn.MaxPool2d(2)\n",
        "        self.fc1 = nn.Linear(8 * 8 * 8, 32)\n",
        "        self.act3 = nn.Tanh()\n",
        "        self.fc2 = nn.Linear(32, 2) # Best practice to use new instances for each element\n",
        "    \n",
        "    def forward(self, x):\n",
        "        out = self.pool1(self.act1(self.conv1(x)))\n",
        "        out = self.pool2(self.act2(self.conv2(out)))\n",
        "        out = out.view(-1, 8 * 8 * 8) # nn.Flatten to appropriate size for dense layers\n",
        "        out = self.act3(self.fc1(out))\n",
        "        out = self.fc2(out)\n",
        "        return out"
      ]
    },
    {
      "cell_type": "code",
      "execution_count": 24,
      "metadata": {
        "colab": {
          "base_uri": "https://localhost:8080/"
        },
        "id": "ZBWM3HUjC_lo",
        "outputId": "8a31ed97-fc52-4608-a574-43207e7fab10"
      },
      "outputs": [
        {
          "output_type": "execute_result",
          "data": {
            "text/plain": [
              "(18090, [432, 16, 1152, 8, 16384, 32, 64, 2])"
            ]
          },
          "metadata": {},
          "execution_count": 24
        }
      ],
      "source": [
        "# Double checking model\n",
        "model = Net()\n",
        "\n",
        "numel_list = [p.numel() for p in model.parameters()]\n",
        "sum(numel_list), numel_list"
      ]
    },
    {
      "cell_type": "code",
      "execution_count": 25,
      "metadata": {
        "id": "N_oVC3YqC_lp"
      },
      "outputs": [],
      "source": [
        "# Using functional API for activation functions.  Functional API can be used when parameters aren't being passed in\n",
        "class Net(nn.Module):\n",
        "    def __init__(self):\n",
        "        super().__init__()\n",
        "        self.conv1 = nn.Conv2d(3, 16, kernel_size=3, padding=1)\n",
        "        self.conv2 = nn.Conv2d(16, 8, kernel_size=3, padding=1)\n",
        "        self.fc1 = nn.Linear(8 * 8 * 8, 32)\n",
        "        self.fc2 = nn.Linear(32, 2)\n",
        "    \n",
        "    def forward(self, x):\n",
        "        out = F.max_pool2d(torch.tanh(self.conv1(x)), 2)\n",
        "        out = F.max_pool2d(torch.tanh(self.conv2(out)), 2)\n",
        "        out = out.view(-1, 8 * 8 * 8)\n",
        "        out = torch.tanh(self.fc1(out))\n",
        "        out = self.fc2(out)\n",
        "        return out"
      ]
    },
    {
      "cell_type": "code",
      "execution_count": 26,
      "metadata": {
        "colab": {
          "base_uri": "https://localhost:8080/"
        },
        "id": "Gzt1viLhC_lp",
        "outputId": "6591fba3-4f60-4b1e-ec66-32e4eeee43f1"
      },
      "outputs": [
        {
          "output_type": "execute_result",
          "data": {
            "text/plain": [
              "tensor([[-0.0569,  0.2053]], grad_fn=<AddmmBackward0>)"
            ]
          },
          "metadata": {},
          "execution_count": 26
        }
      ],
      "source": [
        "model = Net()\n",
        "model(img.unsqueeze(0))"
      ]
    },
    {
      "cell_type": "code",
      "execution_count": 27,
      "metadata": {
        "id": "9MfJf_s3C_lp"
      },
      "outputs": [],
      "source": [
        "def training_loop(epochs, optimizer, model, loss_fn, train_loader):\n",
        "    for epoch in range(1, epochs + 1): # Loop over epochs\n",
        "        loss_train = 0.0\n",
        "        for imgs, labels in train_loader: # Loop over batches\n",
        "            outputs = model(imgs) # Feed forward batch through model\n",
        "            loss = loss_fn(outputs, labels) # Calculate loss\n",
        "            optimizer.zero_grad() # Zero gradients from last iteration\n",
        "            loss.backward() # Calculate gradients\n",
        "            optimizer.step() # Update parameters in model\n",
        "            loss_train += loss.item() # Sum loss for epoch\n",
        "        \n",
        "        if epoch == 1 or epoch % 10 == 0:\n",
        "            print('{} Epoch {}, Training loss {}'.format(\n",
        "                datetime.datetime.now(), epoch, loss_train / len(train_loader) # Gets average loss per batch\n",
        "            ))"
      ]
    },
    {
      "cell_type": "code",
      "execution_count": 28,
      "metadata": {
        "colab": {
          "base_uri": "https://localhost:8080/"
        },
        "id": "K_vHYwZ5C_lq",
        "outputId": "4549e459-2408-49e2-8b6e-77c157b346d5"
      },
      "outputs": [
        {
          "output_type": "stream",
          "name": "stdout",
          "text": [
            "2022-01-24 12:27:00.561230 Epoch 1, Training loss 0.5972959087912444\n",
            "2022-01-24 12:27:30.121597 Epoch 10, Training loss 0.33226043830631646\n",
            "2022-01-24 12:28:03.264990 Epoch 20, Training loss 0.29554129804775214\n",
            "2022-01-24 12:28:36.188836 Epoch 30, Training loss 0.2712473334495429\n",
            "2022-01-24 12:29:09.212258 Epoch 40, Training loss 0.250808171880473\n",
            "2022-01-24 12:29:42.267231 Epoch 50, Training loss 0.23589748571253127\n",
            "2022-01-24 12:30:15.013022 Epoch 60, Training loss 0.22245553719579794\n",
            "2022-01-24 12:30:47.999567 Epoch 70, Training loss 0.20439702016153152\n",
            "2022-01-24 12:31:20.565368 Epoch 80, Training loss 0.19139467369598948\n",
            "2022-01-24 12:31:52.552259 Epoch 90, Training loss 0.17871216046297625\n",
            "2022-01-24 12:32:25.075211 Epoch 100, Training loss 0.16499143753461776\n"
          ]
        }
      ],
      "source": [
        "train_loader = torch.utils.data.DataLoader(cifar2, batch_size=64, shuffle=True) # Load our data into batches\n",
        "\n",
        "model = Net() # Create network\n",
        "optimizer = optim.SGD(model.parameters(), lr=1e-2) # Create optimizer to update model\n",
        "loss_fn = nn.CrossEntropyLoss() # Define our loss function (cross-entropy is good for classification problems)\n",
        "\n",
        "training_loop(\n",
        "    epochs=100,\n",
        "    optimizer=optimizer,\n",
        "    model=model,\n",
        "    loss_fn=loss_fn,\n",
        "    train_loader=train_loader\n",
        ")"
      ]
    },
    {
      "cell_type": "code",
      "execution_count": 29,
      "metadata": {
        "colab": {
          "base_uri": "https://localhost:8080/"
        },
        "id": "HWDvBZSAC_lq",
        "outputId": "2d3d77d0-69d7-4859-ea1f-a6b1e48ef613"
      },
      "outputs": [
        {
          "output_type": "stream",
          "name": "stdout",
          "text": [
            "Accuracy train: 0.92\n",
            "Accuracy val: 0.88\n"
          ]
        }
      ],
      "source": [
        "train_loader = torch.utils.data.DataLoader(cifar2, batch_size=64, shuffle=False)\n",
        "val_loader = torch.utils.data.DataLoader(cifar2_val, batch_size=64, shuffle=False)\n",
        "\n",
        "def validate(model, train_loader, val_loader):\n",
        "    for name, loader in [('train', train_loader), ('val', val_loader)]:\n",
        "        correct = 0\n",
        "        total = 0\n",
        "        \n",
        "        with torch.no_grad(): # Not using graidents since we are not training\n",
        "            for imgs, labels in loader:\n",
        "                outputs = model(imgs)\n",
        "                _, predicted = torch.max(outputs, dim=1) # Gives index of highest predicted class value\n",
        "                total += labels.shape[0] # Count number of samples\n",
        "                correct += int((predicted == labels).sum()) # Compares truth with predicted value, then sums\n",
        "        \n",
        "        print('Accuracy {}: {:.2f}'.format(name, correct / total))\n",
        "\n",
        "validate(model, train_loader, val_loader)"
      ]
    },
    {
      "cell_type": "code",
      "execution_count": 38,
      "metadata": {
        "id": "quC4rzl9C_lq"
      },
      "outputs": [],
      "source": [
        "# Saving and loading\n",
        "torch.save(model.state_dict(), data_path + 'birds_vs_airplanes.pt')"
      ]
    },
    {
      "cell_type": "code",
      "execution_count": 31,
      "metadata": {
        "id": "Ai1czTu3C_lq"
      },
      "outputs": [],
      "source": [
        "loaded_model = Net()\n",
        "loaded_model.load_state_dict(torch.load(data_path + 'birds_vs_airplanes.pt'))"
      ]
    },
    {
      "cell_type": "code",
      "execution_count": 32,
      "metadata": {
        "colab": {
          "base_uri": "https://localhost:8080/"
        },
        "id": "ORd3aTxzC_lr",
        "outputId": "1f5df1f7-aee2-4c9d-fb6b-3e24dae49c71"
      },
      "outputs": [
        {
          "output_type": "stream",
          "name": "stdout",
          "text": [
            "Training on device cuda.\n"
          ]
        }
      ],
      "source": [
        "# Switch to GPU if available\n",
        "device = (torch.device('cuda') if torch.cuda.is_available()\n",
        "          else torch.device('cpu'))\n",
        "print(f\"Training on device {device}.\")"
      ]
    },
    {
      "cell_type": "code",
      "execution_count": 33,
      "metadata": {
        "id": "1ymb66-DC_lr"
      },
      "outputs": [],
      "source": [
        "def training_loop(epochs, optimizer, model, loss_fn, train_loader):\n",
        "    for epoch in range(1, epochs + 1):\n",
        "        loss_train = 0.0\n",
        "        for imgs, labels in train_loader:\n",
        "            imgs = imgs.to(device=device)\n",
        "            labels = labels.to(device=device)\n",
        "            outputs = model(imgs)\n",
        "            loss = loss_fn(outputs, labels)\n",
        "            optimizer.zero_grad()\n",
        "            loss.backward()\n",
        "            optimizer.step()\n",
        "            loss_train += loss.item()\n",
        "        \n",
        "        if epoch == 1 or epoch % 10 == 0:\n",
        "            print('{} Epoch {}, Training loss {}'.format(\n",
        "                datetime.datetime.now(), epoch, loss_train / len(train_loader) # Gets average loss per batch\n",
        "            ))"
      ]
    },
    {
      "cell_type": "code",
      "execution_count": 34,
      "metadata": {
        "colab": {
          "base_uri": "https://localhost:8080/"
        },
        "id": "wdoGQufFC_lr",
        "outputId": "f0552ac9-cedc-4993-c25a-aa0b28f54225"
      },
      "outputs": [
        {
          "output_type": "stream",
          "name": "stdout",
          "text": [
            "2022-01-24 12:32:32.241052 Epoch 1, Training loss 0.5798328139220074\n",
            "2022-01-24 12:32:35.979138 Epoch 10, Training loss 0.32587209600172223\n",
            "2022-01-24 12:32:40.095314 Epoch 20, Training loss 0.29566413012279824\n",
            "2022-01-24 12:32:44.207578 Epoch 30, Training loss 0.2722273521647332\n",
            "2022-01-24 12:32:48.340275 Epoch 40, Training loss 0.24940261273247422\n",
            "2022-01-24 12:32:52.497710 Epoch 50, Training loss 0.23167222619626174\n",
            "2022-01-24 12:32:56.592689 Epoch 60, Training loss 0.21480730883065302\n",
            "2022-01-24 12:33:00.667940 Epoch 70, Training loss 0.19958705659125262\n",
            "2022-01-24 12:33:04.822346 Epoch 80, Training loss 0.18257037194291498\n",
            "2022-01-24 12:33:08.961550 Epoch 90, Training loss 0.1678265509711709\n",
            "2022-01-24 12:33:13.100359 Epoch 100, Training loss 0.1529964344089578\n"
          ]
        }
      ],
      "source": [
        "train_loader = torch.utils.data.DataLoader(cifar2, batch_size=64, shuffle=True)\n",
        "\n",
        "model = Net().to(device=device) # Move model onto GPU as well\n",
        "optimizer = optim.SGD(model.parameters(), lr=1e-2)\n",
        "loss_fn = nn.CrossEntropyLoss()\n",
        "\n",
        "training_loop(\n",
        "    epochs=100,\n",
        "    optimizer=optimizer,\n",
        "    model=model,\n",
        "    loss_fn=loss_fn,\n",
        "    train_loader=train_loader\n",
        ")"
      ]
    },
    {
      "cell_type": "code",
      "execution_count": 35,
      "metadata": {
        "colab": {
          "base_uri": "https://localhost:8080/"
        },
        "id": "RIKK7yxSC_ls",
        "outputId": "a5b420a6-6160-4be1-c935-1879bec75182"
      },
      "outputs": [
        {
          "output_type": "stream",
          "name": "stdout",
          "text": [
            "Accuracy train: 0.94\n",
            "Accuracy val: 0.90\n"
          ]
        }
      ],
      "source": [
        "train_loader = torch.utils.data.DataLoader(cifar2, batch_size=64, shuffle=False)\n",
        "val_loader = torch.utils.data.DataLoader(cifar2_val, batch_size=64, shuffle=False)\n",
        "all_acc_dict = collections.OrderedDict()\n",
        "\n",
        "def validate(model, train_loader, val_loader):\n",
        "    accdict = {}\n",
        "    for name, loader in [('train', train_loader), ('val', val_loader)]:\n",
        "        correct = 0\n",
        "        total = 0\n",
        "        with torch.no_grad():\n",
        "            for imgs, labels in loader:\n",
        "                imgs = imgs.to(device=device)\n",
        "                labels = labels.to(device=device)\n",
        "                outputs = model(imgs)\n",
        "                _, predicted = torch.max(outputs, dim=1)\n",
        "                total += labels.shape[0]\n",
        "                correct += int((predicted == labels).sum())\n",
        "        \n",
        "        print('Accuracy {}: {:.2f}'.format(name, correct / total))\n",
        "        accdict[name] = correct / total\n",
        "    return accdict\n",
        "all_acc_dict['baseline'] = validate(model, train_loader, val_loader)"
      ]
    },
    {
      "cell_type": "code",
      "execution_count": 40,
      "metadata": {
        "colab": {
          "base_uri": "https://localhost:8080/"
        },
        "id": "9jMqmNYMC_ls",
        "outputId": "d747c2bb-0254-433b-9c4b-7dfc624a9035"
      },
      "outputs": [
        {
          "output_type": "execute_result",
          "data": {
            "text/plain": [
              "<All keys matched successfully>"
            ]
          },
          "metadata": {},
          "execution_count": 40
        }
      ],
      "source": [
        "# Saving and loading with GPU\n",
        "loaded_model = Net().to(device=device)\n",
        "loaded_model.load_state_dict(torch.load(data_path + 'birds_vs_airplanes.pt', map_location=device))"
      ]
    },
    {
      "cell_type": "markdown",
      "metadata": {
        "id": "pXuJGya0C_ls"
      },
      "source": [
        "## Adding Width"
      ]
    },
    {
      "cell_type": "code",
      "execution_count": 41,
      "metadata": {
        "id": "fXN7I1HfC_lt"
      },
      "outputs": [],
      "source": [
        "# Increasing width allows model to handle more types of data and potentitally allows it to generalize better\n",
        "class NetWidth(nn.Module):\n",
        "    def __init__(self):\n",
        "        super().__init__()\n",
        "        self.conv1 = nn.Conv2d(3, 32, kernel_size=3, padding=1) # Doubled size for extra width\n",
        "        self.conv2 = nn.Conv2d(32, 16, kernel_size=3, padding=1)\n",
        "        self.fc1 = nn.Linear(16 * 8 * 8, 32)\n",
        "        self.fc2 = nn.Linear(32, 2)\n",
        "    \n",
        "    def forward(self, x):\n",
        "        out = F.max_pool2d(torch.tanh(self.conv1(x)), 2)\n",
        "        out = F.max_pool2d(torch.tanh(self.conv2(out)), 2)\n",
        "        out = out.view(-1, 16 * 8 * 8)\n",
        "        out = torch.tanh(self.fc1(out))\n",
        "        out = self.fc2(out)\n",
        "        return out"
      ]
    },
    {
      "cell_type": "code",
      "execution_count": 42,
      "metadata": {
        "colab": {
          "base_uri": "https://localhost:8080/"
        },
        "id": "XCU0gsqOC_lt",
        "outputId": "7988fc37-1a7d-45d1-add4-ab1470478469"
      },
      "outputs": [
        {
          "output_type": "stream",
          "name": "stdout",
          "text": [
            "2022-01-24 12:35:23.153652 Epoch 1, Training loss 0.5502763437997004\n",
            "2022-01-24 12:35:27.080881 Epoch 10, Training loss 0.3159978597596952\n",
            "2022-01-24 12:35:31.455624 Epoch 20, Training loss 0.2796140118579196\n",
            "2022-01-24 12:35:35.820452 Epoch 30, Training loss 0.24969535221339792\n",
            "2022-01-24 12:35:40.133538 Epoch 40, Training loss 0.2233839736432786\n",
            "2022-01-24 12:35:44.503981 Epoch 50, Training loss 0.2001041974041872\n",
            "2022-01-24 12:35:48.840461 Epoch 60, Training loss 0.17797022426773787\n",
            "2022-01-24 12:35:53.193283 Epoch 70, Training loss 0.15580934838979107\n",
            "2022-01-24 12:35:57.542295 Epoch 80, Training loss 0.13442612610235335\n",
            "2022-01-24 12:36:01.853492 Epoch 90, Training loss 0.11417760061705189\n",
            "2022-01-24 12:36:06.217672 Epoch 100, Training loss 0.09538572713447983\n",
            "Accuracy train: 0.96\n",
            "Accuracy val: 0.90\n"
          ]
        },
        {
          "output_type": "execute_result",
          "data": {
            "text/plain": [
              "{'train': 0.9601, 'val': 0.896}"
            ]
          },
          "metadata": {},
          "execution_count": 42
        }
      ],
      "source": [
        "model = NetWidth().to(device=device)\n",
        "optimizer = optim.SGD(model.parameters(), lr=1e-2)\n",
        "loss_fn = nn.CrossEntropyLoss()\n",
        "\n",
        "training_loop(\n",
        "    epochs = 100,\n",
        "    optimizer = optimizer,\n",
        "    model = model,\n",
        "    loss_fn = loss_fn,\n",
        "    train_loader = train_loader,\n",
        ")\n",
        "\n",
        "validate(model, train_loader, val_loader)"
      ]
    },
    {
      "cell_type": "code",
      "execution_count": 43,
      "metadata": {
        "id": "rSoiRyASC_lt"
      },
      "outputs": [],
      "source": [
        "# Parameterizing inputs\n",
        "class NetWidth(nn.Module):\n",
        "    def __init__(self, n_chans1=32):\n",
        "        super().__init__()\n",
        "        self.n_chans1 = n_chans1\n",
        "        self.conv1 = nn.Conv2d(3, n_chans1, kernel_size=3, padding=1)\n",
        "        self.conv2 = nn.Conv2d(n_chans1, n_chans1 // 2, kernel_size=3, padding=1)\n",
        "        self.fc1 = nn.Linear(8 * 8 * n_chans1 // 2, 32)\n",
        "        self.fc2 = nn.Linear(32, 2)\n",
        "    \n",
        "    def forward(self, x):\n",
        "        out = F.max_pool2d(torch.tanh(self.conv1(x)), 2)\n",
        "        out = F.max_pool2d(torch.tanh(self.conv2(out)), 2)\n",
        "        out = out.view(-1, 8 * 8 * self.n_chans1 // 2)\n",
        "        out = torch.tanh(self.fc1(out))\n",
        "        out = self.fc2(out)\n",
        "        return out"
      ]
    },
    {
      "cell_type": "code",
      "execution_count": 44,
      "metadata": {
        "colab": {
          "base_uri": "https://localhost:8080/"
        },
        "id": "tjL-SZyKC_lx",
        "outputId": "585b2d3b-2ed2-49ba-cffc-6441044f51b9"
      },
      "outputs": [
        {
          "output_type": "stream",
          "name": "stdout",
          "text": [
            "2022-01-24 12:36:06.932402 Epoch 1, Training loss 0.5618820526417653\n",
            "2022-01-24 12:36:10.853837 Epoch 10, Training loss 0.325271745301356\n",
            "2022-01-24 12:36:15.201900 Epoch 20, Training loss 0.2802074126377227\n",
            "2022-01-24 12:36:19.584570 Epoch 30, Training loss 0.2451161181755886\n",
            "2022-01-24 12:36:23.948677 Epoch 40, Training loss 0.21541011096185939\n",
            "2022-01-24 12:36:28.272064 Epoch 50, Training loss 0.18760136476937372\n",
            "2022-01-24 12:36:32.566950 Epoch 60, Training loss 0.16088437277135575\n",
            "2022-01-24 12:36:36.859820 Epoch 70, Training loss 0.13603257912264508\n",
            "2022-01-24 12:36:41.132962 Epoch 80, Training loss 0.11338574496234298\n",
            "2022-01-24 12:36:45.423922 Epoch 90, Training loss 0.09322047752037549\n",
            "2022-01-24 12:36:49.701619 Epoch 100, Training loss 0.07580780338756977\n",
            "Accuracy train: 0.97\n",
            "Accuracy val: 0.89\n"
          ]
        }
      ],
      "source": [
        "model = NetWidth(n_chans1=32).to(device=device)\n",
        "optimizer = optim.SGD(model.parameters(), lr=1e-2)\n",
        "loss_fn = nn.CrossEntropyLoss()\n",
        "\n",
        "training_loop(\n",
        "    epochs = 100,\n",
        "    optimizer = optimizer,\n",
        "    model = model,\n",
        "    loss_fn = loss_fn,\n",
        "    train_loader = train_loader,\n",
        ")\n",
        "\n",
        "all_acc_dict[\"width\"] = validate(model, train_loader, val_loader)"
      ]
    },
    {
      "cell_type": "code",
      "execution_count": 45,
      "metadata": {
        "colab": {
          "base_uri": "https://localhost:8080/"
        },
        "id": "sYWc00flC_ly",
        "outputId": "82536f9c-96e5-407a-ff89-02ef5b3c2fff"
      },
      "outputs": [
        {
          "output_type": "execute_result",
          "data": {
            "text/plain": [
              "38386"
            ]
          },
          "metadata": {},
          "execution_count": 45
        }
      ],
      "source": [
        "sum(p.numel() for p in model.parameters())"
      ]
    },
    {
      "cell_type": "markdown",
      "metadata": {
        "id": "UC2-_px9C_ly"
      },
      "source": [
        "## L2 Normalization"
      ]
    },
    {
      "cell_type": "markdown",
      "metadata": {
        "id": "XPqNU-M9C_ly"
      },
      "source": [
        "L2 Normalization is a strategy for regularization - helping the model generalize, aka decreasing overfitting.  L2 penalizes large weight values.  It is also refered to as \"weight decay\".  It is done as part of the optimization, or updating the parameters with their new weights based on the calculated gradient"
      ]
    },
    {
      "cell_type": "code",
      "execution_count": 46,
      "metadata": {
        "id": "df-awesuC_ly"
      },
      "outputs": [],
      "source": [
        "def training_loop_l2reg(epochs, optimizer, model, loss_fn, train_loader):\n",
        "    for epoch in range(1, epochs + 1):\n",
        "        loss_train = 0.0\n",
        "        for imgs, labels in train_loader:\n",
        "            imgs = imgs.to(device=device)\n",
        "            labels = labels.to(device=device)\n",
        "            outputs = model(imgs)\n",
        "            loss = loss_fn(outputs, labels)\n",
        "            \n",
        "            l2_lambda = 0.001\n",
        "            l2_norm = sum(p.pow(2.0).sum() for p in model.parameters()) # Here is the l2 normalization\n",
        "            \n",
        "            loss = loss + l2_lambda * l2_norm\n",
        "            \n",
        "            optimizer.zero_grad()\n",
        "            loss.backward()\n",
        "            optimizer.step()\n",
        "            \n",
        "            loss_train += loss.item()\n",
        "        if epoch == 1 or epoch % 10 == 0:\n",
        "            print('{} Epoch {}, Training loss {}'.format(\n",
        "                datetime.datetime.now(), epoch, loss_train / len(train_loader)\n",
        "            ))"
      ]
    },
    {
      "cell_type": "code",
      "execution_count": 47,
      "metadata": {
        "colab": {
          "base_uri": "https://localhost:8080/"
        },
        "id": "gbE7_1xrC_lz",
        "outputId": "c9f6780b-f5c6-470b-c729-95fc76df7deb"
      },
      "outputs": [
        {
          "output_type": "stream",
          "name": "stdout",
          "text": [
            "2022-01-24 12:36:50.493627 Epoch 1, Training loss 0.6388150626307081\n",
            "2022-01-24 12:36:55.190133 Epoch 10, Training loss 0.3635518126616812\n",
            "2022-01-24 12:37:00.478720 Epoch 20, Training loss 0.32806884454693763\n",
            "2022-01-24 12:37:05.801522 Epoch 30, Training loss 0.3052607043913216\n",
            "2022-01-24 12:37:11.121371 Epoch 40, Training loss 0.28431696999984185\n",
            "2022-01-24 12:37:16.418272 Epoch 50, Training loss 0.26594885500373355\n",
            "2022-01-24 12:37:21.709861 Epoch 60, Training loss 0.25062382325624966\n",
            "2022-01-24 12:37:27.006526 Epoch 70, Training loss 0.23756182317141514\n",
            "2022-01-24 12:37:32.311286 Epoch 80, Training loss 0.2260494242143479\n",
            "2022-01-24 12:37:37.558245 Epoch 90, Training loss 0.2159792453430261\n",
            "2022-01-24 12:37:42.828850 Epoch 100, Training loss 0.20667099886259455\n",
            "Accuracy train: 0.92\n",
            "Accuracy val: 0.88\n"
          ]
        }
      ],
      "source": [
        "model = Net().to(device=device)\n",
        "optimizer = optim.SGD(model.parameters(), lr=1e-2)\n",
        "loss_fn = nn.CrossEntropyLoss()\n",
        "\n",
        "training_loop_l2reg(\n",
        "    epochs = 100,\n",
        "    optimizer = optimizer,\n",
        "    model = model,\n",
        "    loss_fn = loss_fn,\n",
        "    train_loader = train_loader,\n",
        ")\n",
        "all_acc_dict[\"l2 reg\"] = validate(model, train_loader, val_loader)"
      ]
    },
    {
      "cell_type": "markdown",
      "metadata": {
        "id": "fYEQQItqC_lz"
      },
      "source": [
        "## Dropout"
      ]
    },
    {
      "cell_type": "markdown",
      "metadata": {
        "id": "Odsw_JjJC_lz"
      },
      "source": [
        "Dropout is another strategy for reducing overfitting, and is done as a layer in the model.  It 0s out a random part of the output of a network.  It is only available while the model is set to train"
      ]
    },
    {
      "cell_type": "code",
      "execution_count": 48,
      "metadata": {
        "id": "EMyPU_j6C_lz"
      },
      "outputs": [],
      "source": [
        "class NetDropout(nn.Module):\n",
        "    def __init__(self, n_chans1=32): # Using wide architecture again\n",
        "        super().__init__()\n",
        "        self.n_chans1 = n_chans1\n",
        "        self.conv1 = nn.Conv2d(3, n_chans1, kernel_size=3, padding=1)\n",
        "        self.conv1_dropout = nn.Dropout2d(p=0.4) # Dropout layer 1\n",
        "        self.conv2 = nn.Conv2d(n_chans1, n_chans1 // 2, kernel_size=3, padding=1)\n",
        "        self.conv2_dropout = nn.Dropout(p=0.4) # Dropout layer 2\n",
        "        self.fc1 = nn.Linear(8 * 8 * n_chans1 // 2, 32)\n",
        "        self.fc2 = nn.Linear(32, 2)\n",
        "    \n",
        "    def forward(self, x):\n",
        "        out = F.max_pool2d(torch.tanh(self.conv1(x)), 2)\n",
        "        out = self.conv1_dropout(out) # Passing output through dropout layer 1\n",
        "        out = F.max_pool2d(torch.tanh(self.conv2(out)), 2)\n",
        "        out = self.conv2_dropout(out) # Passing output through dropout layer 2\n",
        "        out = out.view(-1, 8 * 8 * self.n_chans1 // 2)\n",
        "        out = torch.tanh(self.fc1(out))\n",
        "        out = self.fc2(out)\n",
        "        return out"
      ]
    },
    {
      "cell_type": "code",
      "execution_count": 49,
      "metadata": {
        "colab": {
          "base_uri": "https://localhost:8080/"
        },
        "id": "uN55XgYDC_lz",
        "outputId": "dc9c8f48-f995-412f-db38-5b763694defe"
      },
      "outputs": [
        {
          "output_type": "stream",
          "name": "stdout",
          "text": [
            "2022-01-24 12:37:43.612865 Epoch 1, Training loss 0.5701197809094836\n",
            "2022-01-24 12:37:47.781841 Epoch 10, Training loss 0.36880083875671316\n",
            "2022-01-24 12:37:52.369204 Epoch 20, Training loss 0.3402285381297397\n",
            "2022-01-24 12:37:56.900921 Epoch 30, Training loss 0.32295223880725304\n",
            "2022-01-24 12:38:01.449154 Epoch 40, Training loss 0.3101735209963124\n",
            "2022-01-24 12:38:06.013865 Epoch 50, Training loss 0.29757820316560707\n",
            "2022-01-24 12:38:10.541574 Epoch 60, Training loss 0.28560919936295526\n",
            "2022-01-24 12:38:15.083058 Epoch 70, Training loss 0.2710636852273516\n",
            "2022-01-24 12:38:19.630661 Epoch 80, Training loss 0.26019519671892666\n",
            "2022-01-24 12:38:24.236006 Epoch 90, Training loss 0.2485870450830004\n",
            "2022-01-24 12:38:28.829148 Epoch 100, Training loss 0.2383072279915688\n",
            "Accuracy train: 0.90\n",
            "Accuracy val: 0.88\n"
          ]
        }
      ],
      "source": [
        "model = NetDropout(n_chans1=32).to(device=device)\n",
        "optimizer = optim.SGD(model.parameters(), lr=1e-2) # Could put weight decay here for l2 normalization\n",
        "loss_fn = nn.CrossEntropyLoss()\n",
        "\n",
        "training_loop(\n",
        "    epochs = 100,\n",
        "    optimizer = optimizer,\n",
        "    model = model,\n",
        "    loss_fn = loss_fn,\n",
        "    train_loader = train_loader,\n",
        ")\n",
        "all_acc_dict[\"dropout\"] = validate(model, train_loader, val_loader)"
      ]
    },
    {
      "cell_type": "markdown",
      "metadata": {
        "id": "LOlU0fYPC_l0"
      },
      "source": [
        "## Batch Normalization"
      ]
    },
    {
      "cell_type": "markdown",
      "metadata": {
        "id": "lzesXCg8C_l0"
      },
      "source": [
        "Batch normalization is another strategy to combat overfitting and can be used to either replace or minimize the need of Dropout layers.  Normalization rescales inputs to reach a desired distribution.  It is used as a layer in the model. Used to aid with convergence"
      ]
    },
    {
      "cell_type": "code",
      "execution_count": 50,
      "metadata": {
        "id": "ETP-VsCTC_l0"
      },
      "outputs": [],
      "source": [
        "class NetBatchNorm(nn.Module):\n",
        "    def __init__(self, n_chans1=32):\n",
        "        super().__init__()\n",
        "        self.n_chans1 = n_chans1\n",
        "        self.conv1 = nn.Conv2d(3, n_chans1, kernel_size=3, padding=1)\n",
        "        self.conv1_batchnorm = nn.BatchNorm2d(num_features=n_chans1)\n",
        "        self.conv2 = nn.Conv2d(n_chans1, n_chans1 // 2, kernel_size=3, padding=1)\n",
        "        self.conv2_batchnorm = nn.BatchNorm2d(num_features=n_chans1 // 2)\n",
        "        self.fc1 = nn.Linear(8 * 8 * n_chans1 // 2, 32)\n",
        "        self.fc2 = nn.Linear(32, 2)\n",
        "    \n",
        "    def forward(self, x):\n",
        "        out = self.conv1_batchnorm(self.conv1(x))\n",
        "        out = F.max_pool2d(torch.tanh(out), 2)\n",
        "        out = self.conv2_batchnorm(self.conv2(out))\n",
        "        out = F.max_pool2d(torch.tanh(out), 2)\n",
        "        out = out.view(-1, 8 * 8 * self.n_chans1 // 2)\n",
        "        out = torch.tanh(self.fc1(out))\n",
        "        out = self.fc2(out)\n",
        "        return out"
      ]
    },
    {
      "cell_type": "code",
      "execution_count": 51,
      "metadata": {
        "colab": {
          "base_uri": "https://localhost:8080/"
        },
        "id": "EZIHymV9C_l0",
        "outputId": "b3e8c099-179f-4003-97cd-d5d2c8432178"
      },
      "outputs": [
        {
          "output_type": "stream",
          "name": "stdout",
          "text": [
            "2022-01-24 12:38:29.641014 Epoch 1, Training loss 0.4605563226019501\n",
            "2022-01-24 12:38:34.228282 Epoch 10, Training loss 0.27583825170614157\n",
            "2022-01-24 12:38:39.294719 Epoch 20, Training loss 0.2131328352602424\n",
            "2022-01-24 12:38:44.329382 Epoch 30, Training loss 0.16589045296808716\n",
            "2022-01-24 12:38:49.354504 Epoch 40, Training loss 0.1230609657325942\n",
            "2022-01-24 12:38:54.381814 Epoch 50, Training loss 0.08492352054187446\n",
            "2022-01-24 12:38:59.399631 Epoch 60, Training loss 0.05535486883893134\n",
            "2022-01-24 12:39:04.427026 Epoch 70, Training loss 0.03544614637851905\n",
            "2022-01-24 12:39:09.506517 Epoch 80, Training loss 0.02251920284655918\n",
            "2022-01-24 12:39:14.535240 Epoch 90, Training loss 0.019271267388182082\n",
            "2022-01-24 12:39:19.548659 Epoch 100, Training loss 0.010398797975603943\n",
            "Accuracy train: 0.99\n",
            "Accuracy val: 0.87\n"
          ]
        }
      ],
      "source": [
        "model = NetBatchNorm(n_chans1=32).to(device=device)\n",
        "optimizer = optim.SGD(model.parameters(), lr=1e-2)\n",
        "loss_fn = nn.CrossEntropyLoss()\n",
        "\n",
        "training_loop(\n",
        "    epochs = 100,\n",
        "    optimizer = optimizer,\n",
        "    model = model,\n",
        "    loss_fn = loss_fn,\n",
        "    train_loader = train_loader,\n",
        ")\n",
        "all_acc_dict[\"batch_norm\"] = validate(model, train_loader, val_loader)"
      ]
    },
    {
      "cell_type": "markdown",
      "metadata": {
        "id": "ZexiW7dpC_l1"
      },
      "source": [
        "## Depth"
      ]
    },
    {
      "cell_type": "markdown",
      "metadata": {
        "id": "H4k33VjyC_l1"
      },
      "source": [
        "Depth allows models to pick up on different features at different levels of abstraction - eg. found a face, found eyes, found iris.  It is done by adding additional layers to the network.  More layers risk having the gradient vanish - or when the first few layers become useless to the model.  Ways to combat include using skip connections - where certain output layers are fed in as input to another layer several layers down"
      ]
    },
    {
      "cell_type": "code",
      "execution_count": 52,
      "metadata": {
        "id": "h58KvwekC_l1"
      },
      "outputs": [],
      "source": [
        "class NetDepth(nn.Module):\n",
        "    def __init__(self, n_chans1=32): # Wider network\n",
        "        super().__init__()\n",
        "        self.n_chans1 = n_chans1\n",
        "        self.conv1 = nn.Conv2d(3, n_chans1, kernel_size=3, padding=1)\n",
        "        self.conv2 = nn.Conv2d(n_chans1, n_chans1 // 2, kernel_size=3, padding=1)\n",
        "        self.conv3 = nn.Conv2d(n_chans1 // 2, n_chans1 // 2, kernel_size=3, padding=1) # Adding extra layers makes network deeper\n",
        "        self.fc1 = nn.Linear(4 * 4 * n_chans1 // 2, 32)\n",
        "        self.fc2 = nn.Linear(32, 2)\n",
        "    \n",
        "    def forward(self, x):\n",
        "        out = F.max_pool2d(torch.relu(self.conv1(x)), 2)\n",
        "        out = F.max_pool2d(torch.relu(self.conv2(out)), 2)\n",
        "        out = F.max_pool2d(torch.relu(self.conv3(out)), 2)\n",
        "        out = out.view(-1, 4 * 4 * self.n_chans1 // 2)\n",
        "        out = torch.relu(self.fc1(out))\n",
        "        out = self.fc2(out)\n",
        "        return out"
      ]
    },
    {
      "cell_type": "code",
      "execution_count": 53,
      "metadata": {
        "colab": {
          "base_uri": "https://localhost:8080/"
        },
        "id": "wf-jjJxoC_l1",
        "outputId": "4b351082-6a2c-46bb-9515-07a283d2a086"
      },
      "outputs": [
        {
          "output_type": "stream",
          "name": "stdout",
          "text": [
            "2022-01-24 12:39:20.387625 Epoch 1, Training loss 0.6810830129179984\n",
            "2022-01-24 12:39:25.050459 Epoch 10, Training loss 0.3525122217122157\n",
            "2022-01-24 12:39:30.181369 Epoch 20, Training loss 0.3107954345311329\n",
            "2022-01-24 12:39:35.296207 Epoch 30, Training loss 0.2774776912229076\n",
            "2022-01-24 12:39:40.436016 Epoch 40, Training loss 0.24271772555105245\n",
            "2022-01-24 12:39:45.588709 Epoch 50, Training loss 0.2119709221515686\n",
            "2022-01-24 12:39:50.749813 Epoch 60, Training loss 0.18584763348861866\n",
            "2022-01-24 12:39:55.914362 Epoch 70, Training loss 0.1613040807520508\n",
            "2022-01-24 12:40:01.038898 Epoch 80, Training loss 0.1374874234816451\n",
            "2022-01-24 12:40:06.162183 Epoch 90, Training loss 0.11403830458593976\n",
            "2022-01-24 12:40:11.311038 Epoch 100, Training loss 0.09402824348657374\n",
            "Accuracy train: 0.94\n",
            "Accuracy val: 0.89\n"
          ]
        }
      ],
      "source": [
        "model = NetDepth(n_chans1=32).to(device=device)\n",
        "optimizer = optim.SGD(model.parameters(), lr=1e-2)\n",
        "loss_fn = nn.CrossEntropyLoss()\n",
        "\n",
        "training_loop(\n",
        "    epochs = 100,\n",
        "    optimizer = optimizer,\n",
        "    model = model,\n",
        "    loss_fn = loss_fn,\n",
        "    train_loader = train_loader,\n",
        ")\n",
        "all_acc_dict[\"depth\"] = validate(model, train_loader, val_loader)"
      ]
    },
    {
      "cell_type": "code",
      "execution_count": 54,
      "metadata": {
        "id": "da-lczcUC_l2"
      },
      "outputs": [],
      "source": [
        "# Skip connections\n",
        "class NetRes(nn.Module):\n",
        "    def __init__(self, n_chans1=32):\n",
        "        super().__init__()\n",
        "        self.n_chans1 = n_chans1\n",
        "        self.conv1 = nn.Conv2d(3, n_chans1, kernel_size=3, padding=1)\n",
        "        self.conv2 = nn.Conv2d(n_chans1, n_chans1 // 2, kernel_size=3, padding=1)\n",
        "        self.conv3 = nn.Conv2d(n_chans1 // 2, n_chans1 // 2, kernel_size=3, padding=1)\n",
        "        self.fc1 = nn.Linear(4 * 4 * n_chans1 // 2, 32)\n",
        "        self.fc2 = nn.Linear(32, 2)\n",
        "    \n",
        "    def forward(self, x):\n",
        "        out = F.max_pool2d(torch.relu(self.conv1(x)), 2)\n",
        "        out = F.max_pool2d(torch.relu(self.conv2(out)), 2)\n",
        "        out1 = out\n",
        "        out = F.max_pool2d(torch.relu(self.conv3(out)) + out1, 2) # skip connection\n",
        "        out = out.view(-1, 4 * 4 * self.n_chans1 // 2)\n",
        "        out = torch.relu(self.fc1(out))\n",
        "        out = self.fc2(out)\n",
        "        return out"
      ]
    },
    {
      "cell_type": "code",
      "execution_count": 55,
      "metadata": {
        "colab": {
          "base_uri": "https://localhost:8080/"
        },
        "id": "tBFAGSScC_l2",
        "outputId": "eec3d270-6b90-437d-97a4-13bffd50cc84"
      },
      "outputs": [
        {
          "output_type": "stream",
          "name": "stdout",
          "text": [
            "2022-01-24 12:40:12.120380 Epoch 1, Training loss 0.6444216545220394\n",
            "2022-01-24 12:40:16.856091 Epoch 10, Training loss 0.32824454717575363\n",
            "2022-01-24 12:40:22.054958 Epoch 20, Training loss 0.28066179763739274\n",
            "2022-01-24 12:40:27.253467 Epoch 30, Training loss 0.24663594977301398\n",
            "2022-01-24 12:40:32.425972 Epoch 40, Training loss 0.216209864920112\n",
            "2022-01-24 12:40:37.617786 Epoch 50, Training loss 0.18802752118011948\n",
            "2022-01-24 12:40:42.797986 Epoch 60, Training loss 0.16159274438574056\n",
            "2022-01-24 12:40:48.012272 Epoch 70, Training loss 0.13473675378663524\n",
            "2022-01-24 12:40:53.206748 Epoch 80, Training loss 0.11008653281980259\n",
            "2022-01-24 12:40:58.388871 Epoch 90, Training loss 0.0880020090918632\n",
            "2022-01-24 12:41:03.544274 Epoch 100, Training loss 0.0668767855508597\n",
            "Accuracy train: 0.97\n",
            "Accuracy val: 0.90\n"
          ]
        }
      ],
      "source": [
        "model = NetRes(n_chans1=32).to(device=device)\n",
        "optimizer = optim.SGD(model.parameters(), lr=1e-2)\n",
        "loss_fn = nn.CrossEntropyLoss()\n",
        "\n",
        "training_loop(\n",
        "    epochs = 100,\n",
        "    optimizer = optimizer,\n",
        "    model = model,\n",
        "    loss_fn = loss_fn,\n",
        "    train_loader = train_loader,\n",
        ")\n",
        "all_acc_dict[\"res\"] = validate(model, train_loader, val_loader)"
      ]
    },
    {
      "cell_type": "code",
      "execution_count": 56,
      "metadata": {
        "id": "KxdGMqfgC_l2"
      },
      "outputs": [],
      "source": [
        "class ResBlock(nn.Module):\n",
        "    def __init__(self, n_chans):\n",
        "        super().__init__()\n",
        "        self.conv = nn.Conv2d(n_chans, n_chans, kernel_size=3, padding=1, bias=False) # Batch norm cancels bias so it is left out\n",
        "        self.batch_norm = nn.BatchNorm2d(num_features=n_chans)\n",
        "        torch.nn.init.kaiming_normal_(self.conv.weight, nonlinearity='relu') # Using a different/custom initialization strategy\n",
        "        torch.nn.init.constant_(self.batch_norm.weight, 0.5)\n",
        "        torch.nn.init.zeros_(self.batch_norm.bias)\n",
        "    \n",
        "    def forward(self, x):\n",
        "        out = self.conv(x)\n",
        "        out = self.batch_norm(out)\n",
        "        out = torch.relu(out)\n",
        "        return out + x # skip connection"
      ]
    },
    {
      "cell_type": "code",
      "execution_count": 57,
      "metadata": {
        "id": "_ac3faqzC_l2"
      },
      "outputs": [],
      "source": [
        "class NetResDeep(nn.Module):\n",
        "    def __init__(self, n_chans1=32, n_blocks=10):\n",
        "        super().__init__()\n",
        "        self.n_chans1 = n_chans1\n",
        "        self.conv1 = nn.Conv2d(3, n_chans1, kernel_size=3, padding=1)\n",
        "        self.resblocks = nn.Sequential(\n",
        "            *(n_blocks * [ResBlock(n_chans=n_chans1)])\n",
        "        )\n",
        "        self.fc1 = nn.Linear(8 * 8 * n_chans1, 32)\n",
        "        self.fc2 = nn.Linear(32, 2)\n",
        "    \n",
        "    def forward(self, x):\n",
        "        out = F.max_pool2d(torch.relu(self.conv1(x)), 2)\n",
        "        out = self.resblocks(out)\n",
        "        out = F.max_pool2d(out, 2)\n",
        "        out = out.view(-1, 8 * 8 * self.n_chans1)\n",
        "        out = torch.relu(self.fc1(out))\n",
        "        out = self.fc2(out)\n",
        "        return out"
      ]
    },
    {
      "cell_type": "code",
      "execution_count": 58,
      "metadata": {
        "colab": {
          "base_uri": "https://localhost:8080/"
        },
        "id": "j07T2WHEC_l2",
        "outputId": "c9f542e8-1dd5-4626-cc73-991c4c3e48b0"
      },
      "outputs": [
        {
          "output_type": "stream",
          "name": "stdout",
          "text": [
            "2022-01-24 12:41:15.569235 Epoch 1, Training loss 2.0241173300773476\n",
            "2022-01-24 12:43:01.028196 Epoch 10, Training loss 0.31354483539701267\n",
            "2022-01-24 12:44:58.110220 Epoch 20, Training loss 0.24543755506254306\n",
            "2022-01-24 12:46:54.662544 Epoch 30, Training loss 0.19302395047845355\n",
            "2022-01-24 12:48:51.254660 Epoch 40, Training loss 0.1548568887315738\n",
            "2022-01-24 12:50:47.680573 Epoch 50, Training loss 0.13414531542806868\n",
            "2022-01-24 12:52:44.173094 Epoch 60, Training loss 0.1078529726524072\n",
            "2022-01-24 12:54:40.667000 Epoch 70, Training loss 0.0782019747065226\n",
            "2022-01-24 12:56:37.213078 Epoch 80, Training loss 0.0964042506014608\n",
            "2022-01-24 12:58:33.769045 Epoch 90, Training loss 0.053236086144717115\n",
            "2022-01-24 13:00:30.275572 Epoch 100, Training loss 0.07898775958545079\n",
            "Accuracy train: 0.97\n",
            "Accuracy val: 0.86\n"
          ]
        }
      ],
      "source": [
        "model = NetResDeep(n_chans1=32, n_blocks=100).to(device=device)\n",
        "optimizer = optim.SGD(model.parameters(), lr=3e-3)\n",
        "loss_fn = nn.CrossEntropyLoss()\n",
        "\n",
        "training_loop(\n",
        "    epochs = 100,\n",
        "    optimizer = optimizer,\n",
        "    model = model,\n",
        "    loss_fn = loss_fn,\n",
        "    train_loader = train_loader,\n",
        ")\n",
        "all_acc_dict[\"res deep\"] = validate(model, train_loader, val_loader)"
      ]
    },
    {
      "cell_type": "code",
      "execution_count": 61,
      "metadata": {
        "colab": {
          "base_uri": "https://localhost:8080/",
          "height": 316
        },
        "id": "w5lyrqc2C_l3",
        "outputId": "74d6eb87-e23c-4a8b-a35c-853375105753"
      },
      "outputs": [
        {
          "output_type": "display_data",
          "data": {
            "image/png": "[encoded data removed]",
            "text/plain": [
              "<Figure size 432x288 with 1 Axes>"
            ]
          },
          "metadata": {
            "needs_background": "light"
          }
        }
      ],
      "source": [
        "trn_acc = [v['train'] for k, v in all_acc_dict.items()]\n",
        "val_acc = [v['val'] for k, v in all_acc_dict.items()]\n",
        "\n",
        "width =0.3\n",
        "plt.bar(np.arange(len(trn_acc)), trn_acc, width=width, label='train')\n",
        "plt.bar(np.arange(len(val_acc))+ width, val_acc, width=width, label='val')\n",
        "plt.xticks(np.arange(len(val_acc))+ width/2, list(all_acc_dict.keys()),\n",
        "           rotation=60)\n",
        "plt.ylabel('accuracy')\n",
        "plt.legend(loc='lower right')\n",
        "plt.ylim(0.7, 1)\n",
        "plt.savefig('accuracy_comparison.png', bbox_inches='tight')\n",
        "plt.show()"
      ]
    },
    {
      "cell_type": "code",
      "source": [
        "# Saving and loading\n",
        "torch.save(model.state_dict(), data_path + 'birds_vs_airplanes.pt')"
      ],
      "metadata": {
        "id": "N5QFQa8oLNji"
      },
      "execution_count": 63,
      "outputs": []
    },
    {
      "cell_type": "code",
      "source": [
        ""
      ],
      "metadata": {
        "id": "oYcOUO0bLPNO"
      },
      "execution_count": null,
      "outputs": []
    }
  ],
  "metadata": {
    "kernelspec": {
      "display_name": "Python 3",
      "language": "python",
      "name": "python3"
    },
    "language_info": {
      "codemirror_mode": {
        "name": "ipython",
        "version": 3
      },
      "file_extension": ".py",
      "mimetype": "text/x-python",
      "name": "python",
      "nbconvert_exporter": "python",
      "pygments_lexer": "ipython3",
      "version": "3.7.4"
    },
    "colab": {
      "name": "model_architecture.ipynb",
      "provenance": [],
      "collapsed_sections": []
    },
    "accelerator": "GPU"
  },
  "nbformat": 4,
  "nbformat_minor": 0
}