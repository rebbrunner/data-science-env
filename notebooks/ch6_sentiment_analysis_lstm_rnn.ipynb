{
 "cells": [
  {
   "cell_type": "markdown",
   "metadata": {},
   "source": [
    "# Sentiment Analysis with LSTMs"
   ]
  },
  {
   "cell_type": "code",
   "execution_count": 54,
   "metadata": {},
   "outputs": [],
   "source": [
    "import matplotlib.pyplot as plt\n",
    "import seaborn as sns\n",
    "\n",
    "from tensorflow.keras.models import Sequential\n",
    "from tensorflow.keras.layers import LSTM\n",
    "from tensorflow.keras.layers import Dense\n",
    "from tensorflow.keras.layers import Embedding\n",
    "\n",
    "from tensorflow.keras.datasets import imdb\n",
    "from tensorflow.keras.preprocessing import sequence\n",
    "\n",
    "from sklearn.metrics import confusion_matrix"
   ]
  },
  {
   "cell_type": "markdown",
   "metadata": {},
   "source": [
    "## Data Exploration"
   ]
  },
  {
   "cell_type": "code",
   "execution_count": 3,
   "metadata": {},
   "outputs": [
    {
     "name": "stdout",
     "output_type": "stream",
     "text": [
      "Downloading data from https://storage.googleapis.com/tensorflow/tf-keras-datasets/imdb.npz\n",
      "17465344/17464789 [==============================] - 35s 2us/step\n"
     ]
    },
    {
     "name": "stderr",
     "output_type": "stream",
     "text": [
      "<string>:6: VisibleDeprecationWarning: Creating an ndarray from ragged nested sequences (which is a list-or-tuple of lists-or-tuples-or ndarrays with different lengths or shapes) is deprecated. If you meant to do this, you must specify 'dtype=object' when creating the ndarray\n",
      "c:\\users\\rebs\\documents\\dev\\data-science-env\\env\\lib\\site-packages\\tensorflow\\python\\keras\\datasets\\imdb.py:155: VisibleDeprecationWarning: Creating an ndarray from ragged nested sequences (which is a list-or-tuple of lists-or-tuples-or ndarrays with different lengths or shapes) is deprecated. If you meant to do this, you must specify 'dtype=object' when creating the ndarray\n",
      "  x_train, y_train = np.array(xs[:idx]), np.array(labels[:idx])\n",
      "c:\\users\\rebs\\documents\\dev\\data-science-env\\env\\lib\\site-packages\\tensorflow\\python\\keras\\datasets\\imdb.py:156: VisibleDeprecationWarning: Creating an ndarray from ragged nested sequences (which is a list-or-tuple of lists-or-tuples-or ndarrays with different lengths or shapes) is deprecated. If you meant to do this, you must specify 'dtype=object' when creating the ndarray\n",
      "  x_test, y_test = np.array(xs[idx:]), np.array(labels[idx:])\n"
     ]
    }
   ],
   "source": [
    "training_set, testing_set = imdb.load_data(index_from=3)\n",
    "x_train, y_train = training_set\n",
    "y_test, y_test = testing_set"
   ]
  },
  {
   "cell_type": "code",
   "execution_count": 4,
   "metadata": {},
   "outputs": [
    {
     "name": "stdout",
     "output_type": "stream",
     "text": [
      "[1, 14, 22, 16, 43, 530, 973, 1622, 1385, 65, 458, 4468, 66, 3941, 4, 173, 36, 256, 5, 25, 100, 43, 838, 112, 50, 670, 22665, 9, 35, 480, 284, 5, 150, 4, 172, 112, 167, 21631, 336, 385, 39, 4, 172, 4536, 1111, 17, 546, 38, 13, 447, 4, 192, 50, 16, 6, 147, 2025, 19, 14, 22, 4, 1920, 4613, 469, 4, 22, 71, 87, 12, 16, 43, 530, 38, 76, 15, 13, 1247, 4, 22, 17, 515, 17, 12, 16, 626, 18, 19193, 5, 62, 386, 12, 8, 316, 8, 106, 5, 4, 2223, 5244, 16, 480, 66, 3785, 33, 4, 130, 12, 16, 38, 619, 5, 25, 124, 51, 36, 135, 48, 25, 1415, 33, 6, 22, 12, 215, 28, 77, 52, 5, 14, 407, 16, 82, 10311, 8, 4, 107, 117, 5952, 15, 256, 4, 31050, 7, 3766, 5, 723, 36, 71, 43, 530, 476, 26, 400, 317, 46, 7, 4, 12118, 1029, 13, 104, 88, 4, 381, 15, 297, 98, 32, 2071, 56, 26, 141, 6, 194, 7486, 18, 4, 226, 22, 21, 134, 476, 26, 480, 5, 144, 30, 5535, 18, 51, 36, 28, 224, 92, 25, 104, 4, 226, 65, 16, 38, 1334, 88, 12, 16, 283, 5, 16, 4472, 113, 103, 32, 15, 16, 5345, 19, 178, 32]\n"
     ]
    }
   ],
   "source": [
    "print(x_train[0])"
   ]
  },
  {
   "cell_type": "code",
   "execution_count": 87,
   "metadata": {},
   "outputs": [],
   "source": [
    "word_to_id = imdb.get_word_index()\n",
    "word_to_id = {key: (value + 3) for key, value in word_to_id.items()}\n",
    "word_to_id['<PAD>'] = 0\n",
    "word_to_id['<START>'] = 1\n",
    "id_to_word = {value: key for key, value in word_to_id.items()}"
   ]
  },
  {
   "cell_type": "code",
   "execution_count": 90,
   "metadata": {},
   "outputs": [
    {
     "name": "stdout",
     "output_type": "stream",
     "text": [
      "<START> a rating of 1 does not begin to express how dull depressing and relentlessly bad this movie is\n",
      "0\n"
     ]
    }
   ],
   "source": [
    "print(' '.join(id_to_word[id] for id in x_train[159]))\n",
    "print(y_train[159])"
   ]
  },
  {
   "cell_type": "code",
   "execution_count": 9,
   "metadata": {},
   "outputs": [
    {
     "name": "stdout",
     "output_type": "stream",
     "text": [
      "<START> lavish production values and solid performances in this straightforward adaption of jane austen's satirical classic about the marriage game within and between the classes in provincial 18th century england northam and paltrow are a salutory mixture as friends who must pass through jealousies and lies to discover that they love each other good humor is a sustaining virtue which goes a long way towards explaining the accessability of the aged source material which has been toned down a bit in its harsh scepticism i liked the look of the film and how shots were set up and i thought it didn't rely too much on successions of head shots like most other films of the 80s and 90s do very good results\n",
      "1\n"
     ]
    }
   ],
   "source": [
    "print(' '.join(id_to_word[id] for id in x_train[6]))\n",
    "print(y_train[6])"
   ]
  },
  {
   "cell_type": "markdown",
   "metadata": {},
   "source": [
    "## Preprocessing"
   ]
  },
  {
   "cell_type": "code",
   "execution_count": 10,
   "metadata": {},
   "outputs": [],
   "source": [
    "training_set, testing_set = imdb.load_data(num_words=10000)\n",
    "x_train, y_train = training_set\n",
    "x_test, y_test = testing_set"
   ]
  },
  {
   "cell_type": "code",
   "execution_count": 11,
   "metadata": {},
   "outputs": [
    {
     "name": "stdout",
     "output_type": "stream",
     "text": [
      "Number of training samples: 25000\n",
      "Number of testing samples: 25000\n"
     ]
    }
   ],
   "source": [
    "print(f'Number of training samples: {x_train.shape[0]}')\n",
    "print(f'Number of testing samples: {x_test.shape[0]}')"
   ]
  },
  {
   "cell_type": "code",
   "execution_count": 13,
   "metadata": {},
   "outputs": [],
   "source": [
    "x_train_padded = sequence.pad_sequences(x_train, maxlen=100)\n",
    "x_test_padded = sequence.pad_sequences(x_test, maxlen=100)"
   ]
  },
  {
   "cell_type": "code",
   "execution_count": 14,
   "metadata": {},
   "outputs": [
    {
     "name": "stdout",
     "output_type": "stream",
     "text": [
      "x_train vector shape: (25000, 100)\n",
      "x_test vector shape: (25000, 100)\n"
     ]
    }
   ],
   "source": [
    "print(f'x_train vector shape: {x_train_padded.shape}')\n",
    "print(f'x_test vector shape: {x_test_padded.shape}')"
   ]
  },
  {
   "cell_type": "markdown",
   "metadata": {},
   "source": [
    "## Modeling"
   ]
  },
  {
   "cell_type": "code",
   "execution_count": 45,
   "metadata": {},
   "outputs": [],
   "source": [
    "model = Sequential()"
   ]
  },
  {
   "cell_type": "code",
   "execution_count": 46,
   "metadata": {},
   "outputs": [],
   "source": [
    "model.add(Embedding(input_dim=10000, output_dim=128))\n",
    "model.add(LSTM(units=128))\n",
    "model.add(Dense(units=1, activation='sigmoid'))"
   ]
  },
  {
   "cell_type": "code",
   "execution_count": 47,
   "metadata": {},
   "outputs": [
    {
     "name": "stdout",
     "output_type": "stream",
     "text": [
      "Model: \"sequential_1\"\n",
      "_________________________________________________________________\n",
      "Layer (type)                 Output Shape              Param #   \n",
      "=================================================================\n",
      "embedding_1 (Embedding)      (None, None, 128)         1280000   \n",
      "_________________________________________________________________\n",
      "lstm_1 (LSTM)                (None, 128)               131584    \n",
      "_________________________________________________________________\n",
      "dense_1 (Dense)              (None, 1)                 129       \n",
      "=================================================================\n",
      "Total params: 1,411,713\n",
      "Trainable params: 1,411,713\n",
      "Non-trainable params: 0\n",
      "_________________________________________________________________\n"
     ]
    }
   ],
   "source": [
    "model.summary()"
   ]
  },
  {
   "cell_type": "code",
   "execution_count": 48,
   "metadata": {},
   "outputs": [],
   "source": [
    "model.compile(loss='binary_crossentropy', optimizer='RMSprop', metrics=['accuracy'])"
   ]
  },
  {
   "cell_type": "code",
   "execution_count": 49,
   "metadata": {},
   "outputs": [
    {
     "name": "stdout",
     "output_type": "stream",
     "text": [
      "Epoch 1/10\n",
      "196/196 [==============================] - 46s 228ms/step - loss: 0.4639 - accuracy: 0.7835 - val_loss: 0.6311 - val_accuracy: 0.7696\n",
      "Epoch 2/10\n",
      "196/196 [==============================] - 58s 298ms/step - loss: 0.3064 - accuracy: 0.8762 - val_loss: 0.3316 - val_accuracy: 0.8566\n",
      "Epoch 3/10\n",
      "196/196 [==============================] - 62s 314ms/step - loss: 0.2602 - accuracy: 0.8968 - val_loss: 0.5078 - val_accuracy: 0.8114\n",
      "Epoch 4/10\n",
      "196/196 [==============================] - 54s 277ms/step - loss: 0.2270 - accuracy: 0.9122 - val_loss: 0.3998 - val_accuracy: 0.8303\n",
      "Epoch 5/10\n",
      "196/196 [==============================] - 58s 297ms/step - loss: 0.1975 - accuracy: 0.9242 - val_loss: 0.3867 - val_accuracy: 0.8511\n",
      "Epoch 6/10\n",
      "196/196 [==============================] - 57s 291ms/step - loss: 0.1747 - accuracy: 0.9371 - val_loss: 0.3613 - val_accuracy: 0.8469\n",
      "Epoch 7/10\n",
      "196/196 [==============================] - 57s 290ms/step - loss: 0.1495 - accuracy: 0.9456 - val_loss: 0.4440 - val_accuracy: 0.8345\n",
      "Epoch 8/10\n",
      "196/196 [==============================] - 57s 291ms/step - loss: 0.1305 - accuracy: 0.9547 - val_loss: 0.4306 - val_accuracy: 0.8334\n",
      "Epoch 9/10\n",
      "196/196 [==============================] - 57s 291ms/step - loss: 0.1102 - accuracy: 0.9605 - val_loss: 0.5201 - val_accuracy: 0.8358\n",
      "Epoch 10/10\n",
      "196/196 [==============================] - 57s 292ms/step - loss: 0.0904 - accuracy: 0.9693 - val_loss: 0.4747 - val_accuracy: 0.8186\n"
     ]
    }
   ],
   "source": [
    "scores = model.fit(x=x_train_padded, y=y_train, batch_size=128, epochs=10, validation_data=(x_test_padded, y_test))"
   ]
  },
  {
   "cell_type": "markdown",
   "metadata": {},
   "source": [
    "## Results"
   ]
  },
  {
   "cell_type": "code",
   "execution_count": 50,
   "metadata": {},
   "outputs": [
    {
     "data": {
      "image/png": "[encoded data removed]",
      "text/plain": [
       "<Figure size 432x288 with 1 Axes>"
      ]
     },
     "metadata": {
      "needs_background": "light"
     },
     "output_type": "display_data"
    }
   ],
   "source": [
    "plt.plot(range(1, 11), scores.history['accuracy'], label='Training Accuracy')\n",
    "plt.plot(range(1, 11), scores.history['val_accuracy'], label='Validation Accuracy')\n",
    "plt.axis([1, 10, 0, 1])\n",
    "plt.xlabel('Epoch')\n",
    "plt.ylabel('Accuracy')\n",
    "plt.title('Train and Validation Accuracy using RMSprop Optimizer')\n",
    "plt.legend()\n",
    "plt.show()"
   ]
  },
  {
   "cell_type": "code",
   "execution_count": 73,
   "metadata": {},
   "outputs": [
    {
     "data": {
      "image/png": "[encoded data removed]",
      "text/plain": [
       "<Figure size 720x432 with 1 Axes>"
      ]
     },
     "metadata": {},
     "output_type": "display_data"
    }
   ],
   "source": [
    "plt.figure(figsize=(10,6))\n",
    "y_test_pred = model.predict_classes(x_test_padded)\n",
    "c_matrix = confusion_matrix(y_test, y_test_pred)\n",
    "ax = sns.heatmap(c_matrix, annot=True, xticklabels=['Negative', 'Positive'], yticklabels=['Negative', 'Positive'], cbar=False, cmap='Blues', fmt='g')\n",
    "ax.set_ylim([0,2])\n",
    "ax.set_xlabel('Prediction')\n",
    "ax.set_ylabel('Actual')\n",
    "plt.show()"
   ]
  },
  {
   "cell_type": "code",
   "execution_count": 205,
   "metadata": {},
   "outputs": [],
   "source": [
    "false_negatives = []\n",
    "false_positives = []\n",
    "\n",
    "for i in range(len(y_test_pred)):\n",
    "    if y_test_pred[i][0] != y_test[i]:\n",
    "        if y_test[i] == 0:\n",
    "            false_positives.append(i)\n",
    "        else:\n",
    "            false_negatives.append(i)"
   ]
  },
  {
   "cell_type": "code",
   "execution_count": 163,
   "metadata": {},
   "outputs": [
    {
     "data": {
      "text/plain": [
       "299"
      ]
     },
     "execution_count": 163,
     "metadata": {},
     "output_type": "execute_result"
    }
   ],
   "source": [
    "false_positives[21]"
   ]
  },
  {
   "cell_type": "code",
   "execution_count": 95,
   "metadata": {},
   "outputs": [
    {
     "data": {
      "text/plain": [
       "array([4187,  750,  935,   49,    7,    4,   65,  791,   43,   92,   97,\n",
       "        281,  305,    7,  582,  125,   17, 4327,   42,   52,    4, 1721,\n",
       "       6317, 1272, 3504,  186,   40,    6,    2,    6,   55,  619,    5,\n",
       "       1499,    2,  138,    9,   59,   11,  119,   19,   14,  132,  244,\n",
       "         13, 1012,  142,   10,   10,   38,   61, 5492,    9,   15,   48,\n",
       "         25,   26, 9516,   11,  119,   19,    2,   40,   72,   95,   34,\n",
       "         32,  817,  106,   12,   21,   48,   25,  713,    6, 1295,  337,\n",
       "         14,   22,  238,   81,  164,    8, 2522,   25,   15,   14,  405,\n",
       "         22,    9,  530,   88,    4,   65,    9,   38, 2087, 3650,    5,\n",
       "       1967])"
      ]
     },
     "execution_count": 95,
     "metadata": {},
     "output_type": "execute_result"
    }
   ],
   "source": [
    "x_test_padded[19120]"
   ]
  },
  {
   "cell_type": "code",
   "execution_count": 301,
   "metadata": {},
   "outputs": [
    {
     "name": "stdout",
     "output_type": "stream",
     "text": [
      "<START> if you like bad movies and you must to watch this one here's a good one not quite as funny as the first but much lower quality a must see for fans of jack frost as well as anyone up for a good laugh at the writing\n",
      "0\n",
      "1\n"
     ]
    }
   ],
   "source": [
    "print(' '.join(id_to_word[id] for id in x_test[1931]))\n",
    "print(y_test[1931])\n",
    "print(y_test_pred[1931][0])"
   ]
  },
  {
   "cell_type": "code",
   "execution_count": 288,
   "metadata": {},
   "outputs": [
    {
     "data": {
      "text/plain": [
       "1146"
      ]
     },
     "execution_count": 288,
     "metadata": {},
     "output_type": "execute_result"
    }
   ],
   "source": [
    "false_negatives[77]"
   ]
  },
  {
   "cell_type": "code",
   "execution_count": 295,
   "metadata": {},
   "outputs": [
    {
     "name": "stdout",
     "output_type": "stream",
     "text": [
      "<START> contains spoiler the movie is a good action comedy but i don't know if the director cut too many parts but it seems that the bad guy die too fast the end of the movie come the bad guy dies and that's it br br the special effects are good and i don't regret paying to see it at the theatre\n",
      "1\n",
      "0\n"
     ]
    }
   ],
   "source": [
    "print(' '.join(id_to_word[id] for id in x_test[2765]))\n",
    "print(y_test[2765])\n",
    "print(y_test_pred[2765][0])"
   ]
  },
  {
   "cell_type": "code",
   "execution_count": 296,
   "metadata": {
    "collapsed": true,
    "jupyter": {
     "outputs_hidden": true
    }
   },
   "outputs": [
    {
     "name": "stdout",
     "output_type": "stream",
     "text": [
      "<START> well i'd have to say that i do own this film and i only like the ending the movie is boring and slow but the final fight is so funny lets just say that if the fake bird didn't attack the main evil guy this movie would be a 0 out of 10 the bird though makes it a 3 if you are truly bored or want something terrible to watch rent this and fast forward to the final battle\n",
      "86\n",
      "<START> more suspenseful more subtle much much more disturbing\n",
      "256\n",
      "<START> this film gives a look at the suffering a family experiences at the death of a child and the healing that can finally come to them br br the family learns of the death of their son on christmas eve 1991 ruining the christmas season for them they do not celebrate it again for many years there is an interesting comment by the daughter that will remind viewers to consider the needs of surviving children in such a situation br br the matthew character makes a reference to jesus but i suspect that other comments he makes come from non christian sources i wonder if any other viewers would recognize those comments if so it would be an interesting addition to the data on this movie\n",
      "267\n",
      "<START> now really can u call that a movie i knew some of the movies that japanese people do are good for nothing but this bad i mean i fell a sleep three times at this movie no horror at all some tiny percent 0 2 0 5 comedy action let's just admit that it has some but the scenes are poorly filmed the actors are pathetic none of the actors did a good job in it's own role the were not convincing the script is also awful i mean this movie may be great really but for the 60's in not 100 sure i recommend not to see it unless you want to get so bored as i did i can't quite figure hot this movie got it's rating it's over over over rated this is a personal opinion of course i don want to offend anyone but who could like this crap so i hope this helps someone not to loose some time enjoying this movie nevertheless it's your choice\n",
      "377\n",
      "<START> my first thoughts on this film were of using science fiction as a bad way to show naked women not a brilliant story line it had quite a good ending\n",
      "447\n",
      "<START> why wasn't this voted for best picture of 1998 this has to be the best movie ever it makes something like kane look like utter crap come on kane wasn't even in color i love this movie it has to be the best movie i've ever put money down on i am still shocked that it wasn't nominated for anything br br if 10 is the highest you can give it i give it 20\n",
      "495\n",
      "<START> bronson and ireland in their last film together make a likable pair he is more restrained than usual and she has become a winning actress but as a thriller the film is totally worthless its premise is downright silly and its pace is much too rushed\n",
      "1548\n",
      "<START> an american werewolf in paris wasn't really that good compared to the original the original didn't use computer effects for the werewolf and they looked more realistic the werewolf effects in this film looked too cartoonish most of all the movie did not have enough for me for a horror film to enjoy\n",
      "1559\n",
      "<START> the movie that would be included if mystery science theater 3000 had a home game version the source material for tacky comments in this movie are endless i found the video of terror in the jungle at a garage sale what a find\n",
      "1609\n",
      "<START> if you like bad movies and you must to watch this one here's a good one not quite as funny as the first but much lower quality a must see for fans of jack frost as well as anyone up for a good laugh at the writing\n",
      "1931\n",
      "<START> a girl is looking for her soul mate this movie was very strange lots of sequences that look like an hallucinations tommy lee jones is the only stable one in the picture it was hard to figure out what the director was trying to say most of the time the main character is dressed in weird clothes and makeup a weird combination of reality and madness\n",
      "2577\n",
      "<START> imagine this br br whenever two people meet in this movie one of them is shot the plot just does not exist it appears that someone shot some action sequences and then tried to put them together to make a movie out of it if you decide to watch it you will regret it\n",
      "2704\n",
      "<START> i can't really see how anyone can have any interest whatsoever in seeing this movie a woman meets a man he wants to play games she too but only until she realise what she's missing she leaves and that's it really it took 9 1 2 weeks before elizabeth kim basinger left john mickey rourke she should have left him after 30 minutes and ended our misery\n",
      "2922\n",
      "<START> i laughed at the movie the script the acting please don't we deserve better but now the filming some of the camera angles were interesting i did enjoy the film but it's not to be taken seriously though i liked it if it had a new cast and it would be better than all right it's worth a look\n",
      "3262\n",
      "<START> camp blood looked great when i was buying it but when i watched it boy was i wrong its tacky the acting is outrageous and the quality of the film is shocking being a movie fan i usually find humour from tragic horror but at times i couldn't even laugh maybe camp blood 2 will be an improvement\n",
      "4747\n",
      "<START> from the acclaim it got i was expecting more from a korean horror if it's going to be viewed in the same caliber as a tale of two sisters as some other reviews have stated this movie isn't in the same caliber except in budget spent on special effects think horror with a tree and sparse dialogue br br if you're going to have a movie with limited dialogue the plot line and characters have to carry the film this film could have been told quite well in a 30 minute short film concept 2 hours with a lot of staring at trees and terror scenes that make you not only not scared but detract in a what the sort of way does not a good horror movie make br br those people who are stating that this film gave them lasting impressions must literally have heart attacks when decent horror films lay it in\n",
      "5755\n",
      "<START> low budget horror about an evil force hard to believe in this day and age but way back when this stuff actually used to get theatrical release these days this sort of thing would either go direct to video or straight to cable shouldn't be too hard to avoid this one who's ever heard of it\n",
      "6048\n",
      "<START> i had high hopes for this film even though i had not read the book richard gere and diane lane together should be good already but the film does not deliver on the promise i kept waiting for more depth to the characters and there wasn't i have no problem with the fact that it only took a weekend for them to fall in love that can happen but we never really get to know the characters i would have liked more focus on them the film reminded me in places of bridges of madison county and that film was far better i really felt for the characters in that film and there was a chemistry much more passion between clint eastwood and meryl streep that there wasn't between gere and lane each of them are very good actors in his or her own right simply not the right movie for them together\n",
      "6311\n",
      "<START> how does anyone keep on seeing horror movies after this one really this one it's so bad that makes me sick and love horror movies but come on who could had remembered to do such a awful movie it as no history it's only a men who chases a bunch of teenagers because they take something from him and what have they took gold it's typical the movie is boring from the beginning until the end and what is karen black who is a great actress doing in such a ridiculous movie like this but what can i say i think everyone should see it because my opinion is my opinion may be you would like i don't think so but\n",
      "6433\n",
      "<START> this movie isn't that great at all but it's good when you want to just laugh because it's pretty ridiculous there are a lot of mistakes in it and it's cheesy i got this movie for christmas like 5 years ago but for some reason i've never given it away i guess i just like it for a rainy day even though i only watch it like once a year this is a very 90's movie so it's really funny to see how everyone dresses and acts this movie is good for someone young although come to think of it i didn't even like it much when i was like 12 but that's just my personal opinion the movie was really predictable i wish it had had some extra weird twists but i guess it was trying to be an appropriate movie for everyone to enjoy i think it was appropriate for the whole family but dress was a bit but certainly appropriate enough for family material\n",
      "8251\n",
      "<START> considering the subject matter i thought that this film would at least be enjoyable if stopping somewhat short of a masterpiece i was wrong i was still waiting for something to happen and it finished i thought that the finale was the bit that happened before it got exciting the only reason i gave it 2 instead of 1 is because the effects guys deserve some recognition\n",
      "8661\n",
      "<START> this has to be one of if not the greatest mob crime films of all time every thing about this movie is great the acting in this film is of true quality master acting skills make you actually believe he is italian the cinematography is excellent too probably the best ever this movie was great and i have the brain capacity of an earth worm\n",
      "8704\n",
      "<START> this movie was bad but it was so bad that it may reach cult status in the distant future a sort of film noir meets plan 9 from outer space the story was well there wasn't actually a story there is a place reserved for the ed woods and russ meyers of the world and this film proves it so bad it might be good is the best way to describe it i seriously doubt if this movie will be picked up by any legitimate distribution company therefore it is unlikely to see wide release br br i will add that i expect to see more of actor ron carey he made the best of what he had the rest of the acting if i can call it that was quite forgettable i have seen worse from big studios with vast budgets\n",
      "9278\n",
      "<START> this movie is not realistic at all more of a comedy than a serious war film very old fashioned too maybe i was just expecting it to be on a same level with platoon i wonder why 50 of the voters gave it 10 something must be wrong\n",
      "9645\n",
      "<START> i found this film to be a bit too depressing i don't mind dramas but this was a bit too much for me luckily there does seem to be somewhat a decent outcome i suppose it was well done i'd watch it again but it's nothing to rave about\n",
      "9689\n",
      "<START> being a huge street fighter fan and thoroughly enjoying the previous film street fighter ii the animated movie i was really looking forward to this one br br however it seemed that the film had no real sense of direction or purpose most of the characters i could not associate with and it just lacked the intense action that made the other mentioned street fighter film so superior br br there are some good points however the animation is superb\n",
      "10019\n",
      "<START> if you like bad movies and you must to watch this one here's a good one not quite as funny as the first but much lower quality a must see for fans of jack frost as well as anyone up for a good laugh at the writing\n",
      "10247\n",
      "<START> not the funniest movie ever but i have to watch this film at least once a year just so i can fall in love with michelle johnson all over again she never looked better than she did in this film by the way the story is good too\n",
      "10299\n",
      "<START> although this series and the mini film in particular were very important at the time of release i feel that the series as a whole was actually fairly poorly written with a weak cast the issues at heart are extremely well portrayed yet it is difficult to relate and understand the problems within the film when the acting and script isn't convincing enough especially when looking at the mini film br br i also don't believe that this mini film or series has stood the test of time as now many of the scenes are quite laughable the issues are still crucial but boys from the cannot fully aid the cause of understanding the problems in britain in the 1980s\n",
      "10320\n",
      "<START> i had to watch this movie for professional reasons and can only say it's a complete waste of time when running baldwin looks like an ape characters are dull same story has been told 1000 times better in other movies i think everything has been now said about this film but imdb requires me to write 10 lines so boring and and and and and and and and and and and and and and and and and and and and and and and and and and and trivial\n",
      "10556\n",
      "<START> i really liked this quirky movie the characters are not the bland beautiful people that show up in so many movies and on tv it has a realistic edge with a captivating story line the main title sequence alone makes this movie fun to watch\n",
      "11358\n",
      "<START> this is without a doubt the most hilarious movie i've ever seen seriously if the makers of this movie are ever discovered they'll put guys like jim carrey out of a job rent jack o tonight believe me you won't regret it\n",
      "11496\n",
      "<START> i watched part of the first part of this movie and tiny little bits of other parts maybe i'm mistaken but i don't think this movie is really worth watching the odd characters and happenings does catch your attention and is rather interesting but there are bad things in it as well and some gross things the magic and mythical side of it turned me off and for most christians this movie would not be very suitable or worthwhile to watch\n",
      "12096\n",
      "<START> it is definitely not worth spending either money or time it is the same hackneyed plot of a guy and a girl meeting and falling in love but this is with a western touch but it fails miserably in either depicting a love story or giving it the western touch never do we feel that the hero and heroin are in love there is no depth to either of their characters probably with a better cast some justice could have been brought about to the characters finally it is a movie with no fun no acting no theme no plot no comedy no action no thrill no romance i associate romance to something more passionate definitely not a movie you would want to go with your family overall if you are looking for a movie with some content this is definitely not an option i shall wait for the day when bollywood movies are something that i can wait to watch and i can refer to my friends as a must watch movie\n",
      "12768\n",
      "<START> to anyone who likes the tv series forget the movie the jokes are bad and some topics are much too sensitive to laugh about it br br we have seen much better acting by r in 8\n",
      "12824\n",
      "<START> this so called movie is horrible the actors cannot act there is no plot i believe they need to start from scratch and film again i hope that they can correct the acting flaws in this movie i would like to see the trailer after they shoot it again maybe there is hope for it i am not out to hurt feelings but i believe high school kids can do a better job the wardrobe could have been much better sorry but this just did not do it for me i normally enjoy the trailers from this site but this one i cannot find entertaining i hope they take criticism well because i believe they will get much much more from others in regards to this film\n",
      "13468\n",
      "<START> this is a road movie at least the movie is in yellow i think that suggests a road movie i can't say much positive about the delivery it's bad acting certainly their english camera looks like it is done by a kid there's a bomb with counter and suddenly a beetle is falling from the sky since it was so cliche we actually the whole time and that was the most fun of the movie this movie should be released in america but i'm not sure you should go because that might suggest that is the quality we produce the explosions look boring basically everything is over the top everything is just too much the yellow quality the sound the babe etc find all the cliche part in other movies put them together and you have the delivery\n",
      "13537\n",
      "<START> this movie was an all around uninspiring film it was a non moving story that definitely does not get you thinking anything other then where is all the strong moving material the other critics say about the film the 3 main actors are good and there is a few laughs but once again it becomes another movie that you keep watching in hopes of it getting better and it just doesn't i watched this movie last night and wished that we hadn't wasted our precious time while baby is sleeping watching this film br br i plan not to recommend this to my family and friends as well as obviously anyone looking to rent it i was pretty much non impressed with everything about this film\n",
      "14320\n",
      "<START> i think that you can not imagine how these people really work before i came to the studios to watch the guys work there i actually thought quite the same as you do but since i saw and did the work the guys on that tv show have to do i have to say that they really do deserve respect for what they are doing all day long that really is no easy work and also the actors which in your eyes may be terribly bad are really great people and a lot of them really can act i don't think that the material given to them can really show that as i think this material isn't very good but they are truly good so i don't think that you before you haven't seen these guys doing there work can judge over them and i shouldn't have judged over them as well before i met them but i did and am now terribly ashamed of it so please do not allow yourself to judge over these great people unless you haven't seen them doing there job\n",
      "14880\n",
      "<START> nice movie and tom does a fantastic job playing the guy in the girl's body she really does it well br br a sort of teen version of many other movies but well done br br well casted from matt to\n",
      "15010\n",
      "<START> i wasn't so impressed with this film finding it quite tiresome and plain the plot line was interesting a kid creating his own college and hundreds of kids but the laughs were few and far between the jokes weren't really funny and i didn't bust a gut at any of the scenes the characters weren't intriguing and i didn't feel for any of them even the fat kid with glasses who tried to enter the frat group it was a good first watch but it didn't blow me away and its not one that i would recommend comparing it to other films in the same genre ie american pie is just cruel because there is a film which was laugh a plenty this accepted failed to raise a smile\n",
      "15081\n",
      "<START> this movie could have been a lot better than it was if hadn't been a disney film i thought that the young girl playing shirley was all right you could tell that she was really trying to do the job right the teenage shirley temple wasn't right at all i think that they should have spent last time on her childhood the first hour should have been about the young shirley then the last hour should have been about the older shirley this was a boring movie and not a good shirley temple story\n",
      "15263\n",
      "<START> i have just finished watching this movie and for me it takes ages to finish because it is so boring and the storyline is extremely bad br br now where should i start o the movie is called sinking of japan yeah yeah it does show that japan is actually sinking but the action part is very bad compare to the movie the day after tomorrow i would have rate it at least 8 10 br br the sinking of japan does not show much about the disaster that actually happening right in front of our eyes there isn't much excitement at all boring all i can say br br one more point i would recommend this movie to have a better title maybe something like the romance of sinking of japan because this movie does have lots of waste of time talk nonsense the love story is extremely boring have been dragging too long honestly i almost get frustrated br br overall this movie does not show enough details of the disasters e g many people running like hell to avoid death love story part was extremely not touching enough for me br br but hey there is one thing we should appreciate about this movie though its has got good songs\n",
      "15647\n",
      "<START> this movie about a man on the run for killing a mobster is the kind of film you can watch entirely on fast forward once you know who's who and not lose a thing it has an attractive cast but the plot is a virtual writer's guide to cinema cliche and boy does the dialogue\n",
      "16000\n",
      "<START> i was wondering if there was a place or a link that someone can send me or post for me so i can watch this show it seems to be a missing show i have been looking for years now its about oz and a girl who has to help save it it was really good but i found a good oz type thing on the web but i cant find it again or seem to remember a lot of it due to being years and was thinking that this one maybe it and from reading all this it sounds good and maybe the missing show that i really liked please someone help me thanks so much so please anyone that can help me or give me a link that would be so helpful again thank you so much or if anyone has an oz based good videos please post as well\n",
      "16011\n",
      "<START> it's perfectly ok that people dies in an animation but there are just way too many death in this one start from the very beginning the story is all around battles fights death and revenge it goes on and on for entire one and a half hour it was interesting at the beginning but i grew very tire after before the show was half way through unlike other animations this one is lack of humor there are not many interactions between the characters either the good thing about it is the sword fight scene looks pretty good and the characters look nice\n",
      "17179\n",
      "<START> what is the story what is it on the screen at first i must say do not touch this movie it is for your own best it sucks and really what is the story in the beginning it seems okay but after ten minutes it all gets worse and that is not all you can hardly see what it is on the screen it is too dark all the time br br do not touch\n",
      "17545\n",
      "<START> surely this deserves to be in the bottom 10 films of all time pity it's just a tv movie rubbish that only we british can produce it perhaps has some merit in the so awful it's good scale watch out for scene where they start dancing\n",
      "17596\n",
      "<START> not bad performances whoopi plays the wise warm role quite well still the storyline and situations can not be believed forced pc stereotypes at times it is good jews and blacks vs the evil white christians ho hum a typical hollywood fantasy the film does have its moments but it is not one that i would recommend to go out of your way to view\n",
      "17689\n",
      "<START> but it's not the plot isn't all that bad the actors aren't all terrible so it should be decent instead though despite a good starting point the plot just drags on and suffers from a lot of those i can't believe he she is so dumb moments so often used in horror movies to keep things going it frustrated me at times watching some of the decision made by the lead character also it took way too long to get to the good part of the movie anticipation is great but you can't spend over half the movie building it up a shame too since it got decent exposure upon release and hit right before the big halloween season even so i have a feeling this is going to get at least one sequel if not more so maybe they'll be able to build on the strong general plot to eventually release something decent\n",
      "19025\n",
      "<START> when i saw the poster at the theater i thought that it is a new line of a horror story without a famous cast worth giving a try but after i went in i wanted to leave after 20 minutes there was a lot of non sense and logical flaws to me it is a movie that is not worth putting in theaters it is not even worth seeing\n",
      "19106\n",
      "<START> i was so looking forward to seeing this at the film festival in sydney i left the theater like many others before the end credits because i couldn't sit through it any longer it was badly shot the sound sucks and the acting was worse than an episode of the love boat now i know why this film hasn't been able to find an american distribution company to release it in the united states this screams of a low budget high school production\n",
      "19450\n",
      "<START> this movie was so incredibly boring michael j fox could've done so much better sorry but it's true for all you people who liked the movie\n",
      "19957\n",
      "<START> pointless movie about making a movie no where near the flesh shown in the original which was quite enjoyable and even had fun music not here br br it's always fun seeing the guy though\n",
      "20009\n",
      "<START> a really funny story idea with good actors but it misses somehow the actors are older but none of them looked particularly good they needed better make up photography or something it is supposed to be a love story and yet the film had more of the rough look of a street film i liked the cast but i think the performances were rather bland this is where the weakness of the director shows perhaps if mrs spielberg had mr spielberg directing it would have been a much better film\n",
      "20121\n",
      "<START> yes this movie was just bad in every way in things like cast effects boredom excitement and of course being fantastic and we all know the four heroes in this one were a bit more colourful compared to the new ones but it still has to go a fantastic bore like this really was just silly trash which i knew nobody would like when i saw it i mean surely with that budget about 3 or 4 good movies could have been made but no i am just glad that the new version made this year totally showed everyone how the fantastic four should have been made with good story great cast like jessica alba one of my favourite actresses otherwise it would have been totally forgotten but thankfully no the new one was excellent when i saw it with my mates at the cinema but this old fantastic bore has gotta go\n",
      "20418\n",
      "<START> surrender cinema has been known for their extremely erotic almost explicit sci fi films while they generally do very well at these 1 2 virtual encounters this particular entry seems to be just a rehash of old tape any number of girls some recognizable and others not are in this film in all stages of nudity there are also several clips from other films which are outstanding unless you've seen those other films there are a number of solo nude scenes doing a number of things some playing basketball others talking still others playing with themselves the only thing of value in this tape is the very last scene a short but erotic girl girl scene with a very enthusiastic and enjoyable sandy and a more subdued not highly recommended\n",
      "22184\n",
      "<START> i don't normally write reviews but this film was special i couldn't turn it off i don't believe i've ever seen a worse movie but there i sat watching it was like a horrible car wreck with blood flowing all over the highway it was disgusting but i couldn't turn away where do i start the movie seems to think it's a sports thriller but it's so utterly ridiculous it can only be a comedy but it's not funny not even in a dumb silly way it's like watching your cousins try to act out a skit on family get it's painful to watch but at least it's only for a minute or two second string went on for over an hour br br whoever was involved with making this movie should not work again the writing directing acting and everything was just terrible the problem is i can't describe how bad it was you just had to see it and i'm sure this will never be shown again so unless you saw it you're out of luck i mean it was almost worth seeing just for the fact that it gave me some appreciation for every other bad film i've seen over my lifetime and for every film i see in the future that i can't stand i will think to myself well at least it wasn't bad as the second string\n",
      "22310\n",
      "<START> i couldn't even sit through the whole thing this movie was a piece of crap i had more fun watching tell mom the dead it was just too painful to watch say besides austin powers has tom arnold ever been in a hit movie\n",
      "23024\n",
      "<START> nothing special to see here the animation has being outdated and the plot is a typical futuristic era this film has an original story but if it doesn't have an original plot or characters so in my opinion it's not worth seeing i'm not saying that the movie was bad it was just a typical anime story and i thought i watched this movie like a thousand times so if you are looking for something original see another thing\n",
      "23930\n",
      "<START> the time i wasted seeing this movie i demand back i felt sick afterward but not because it touched me in any way it's pretentious trying to get the audience to feel bad for the people involved but i couldn't care less the characters are soulless and stupid you don't get an explanation for some of the scenes and it doesn't leave any thoughts afterward to come up with your own explanation all of the students in the movie has issues but since you don't feel for them you don't believe their problems br br if i could write better in english i'd never stop but i can't so i'll stop now br br don't watch this\n",
      "24823\n"
     ]
    }
   ],
   "source": [
    "succeed = False\n",
    "for i in false_positives:\n",
    "    try:\n",
    "        print(' '.join(id_to_word[id] for id in x_test[i]))\n",
    "        print(i)\n",
    "    except:\n",
    "        continue"
   ]
  },
  {
   "cell_type": "code",
   "execution_count": null,
   "metadata": {},
   "outputs": [],
   "source": []
  }
 ],
 "metadata": {
  "kernelspec": {
   "display_name": "Python 3",
   "language": "python",
   "name": "python3"
  },
  "language_info": {
   "codemirror_mode": {
    "name": "ipython",
    "version": 3
   },
   "file_extension": ".py",
   "mimetype": "text/x-python",
   "name": "python",
   "nbconvert_exporter": "python",
   "pygments_lexer": "ipython3",
   "version": "3.7.4"
  }
 },
 "nbformat": 4,
 "nbformat_minor": 4
}
