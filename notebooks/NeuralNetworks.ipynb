{
 "cells": [
  {
   "cell_type": "code",
   "execution_count": 1,
   "metadata": {},
   "outputs": [],
   "source": [
    "import numpy as np"
   ]
  },
  {
   "cell_type": "code",
   "execution_count": 2,
   "metadata": {},
   "outputs": [],
   "source": [
    "def activate(x):\n",
    "    return 1.0/(1+ np.exp(-x))"
   ]
  },
  {
   "cell_type": "code",
   "execution_count": 3,
   "metadata": {},
   "outputs": [],
   "source": [
    "def sigmoid_derivative(x):\n",
    "    return x * (1.0 - x)"
   ]
  },
  {
   "cell_type": "code",
   "execution_count": 4,
   "metadata": {},
   "outputs": [],
   "source": [
    "class NeuralNetwork:\n",
    "    def __init__(self, x, y):\n",
    "        self.input = x\n",
    "        self.layer1 = None\n",
    "        self.output = None\n",
    "        self.weights1   = np.random.rand(self.input.shape[1],4) \n",
    "        self.weights2   = np.random.rand(4,1)                 \n",
    "        self.y          = y\n",
    "\n",
    "    def forward_predict(self):\n",
    "        self.layer1 = activate(np.dot(self.input, self.weights1))\n",
    "        self.output = activate(np.dot(self.layer1, self.weights2))\n",
    "    \n",
    "    def gradient_descent(self, error):\n",
    "        out_der = sigmoid_derivative(self.output)\n",
    "        lay1_der = sigmoid_derivative(self.layer1)\n",
    "        \n",
    "        loss2 = error * out_der        \n",
    "        error = np.dot(loss2, self.weights2.T)        \n",
    "        loss1 = error * lay1_der\n",
    "        \n",
    "        d_weights2 = np.dot(self.layer1.T, loss2)\n",
    "        d_weights1 = np.dot(self.input.T,  loss1)\n",
    "        \n",
    "        return [d_weights2, d_weights1]\n",
    "\n",
    "    def back_correct(self):\n",
    "        error = 2 * (self.y - self.output)\n",
    "        \n",
    "        d_weights2, d_weights1 = self.gradient_descent(error)\n",
    "\n",
    "        self.weights1 += d_weights1\n",
    "        self.weights2 += d_weights2\n",
    "    \n",
    "    def train(self, epochs):\n",
    "        for epoch in range(epochs):\n",
    "            self.forward_predict()\n",
    "            self.back_correct()"
   ]
  },
  {
   "cell_type": "code",
   "execution_count": 5,
   "metadata": {},
   "outputs": [],
   "source": [
    "features = np.array([[0,0,1],\n",
    "              [0,1,1],\n",
    "              [1,0,1],\n",
    "              [1,1,1]])\n",
    "labels = np.array([[0],[1],[1],[0]])"
   ]
  },
  {
   "cell_type": "code",
   "execution_count": 6,
   "metadata": {},
   "outputs": [],
   "source": [
    "nn = NeuralNetwork(features, labels)"
   ]
  },
  {
   "cell_type": "code",
   "execution_count": 7,
   "metadata": {},
   "outputs": [],
   "source": [
    "nn.train(1500)"
   ]
  },
  {
   "cell_type": "code",
   "execution_count": 8,
   "metadata": {},
   "outputs": [
    {
     "name": "stdout",
     "output_type": "stream",
     "text": [
      "[[0.00967836]\n",
      " [0.9685484 ]\n",
      " [0.9681659 ]\n",
      " [0.03705932]]\n"
     ]
    }
   ],
   "source": [
    "print(nn.output)"
   ]
  },
  {
   "cell_type": "code",
   "execution_count": null,
   "metadata": {},
   "outputs": [],
   "source": []
  }
 ],
 "metadata": {
  "kernelspec": {
   "display_name": "Python 3",
   "language": "python",
   "name": "python3"
  },
  "language_info": {
   "codemirror_mode": {
    "name": "ipython",
    "version": 3
   },
   "file_extension": ".py",
   "mimetype": "text/x-python",
   "name": "python",
   "nbconvert_exporter": "python",
   "pygments_lexer": "ipython3",
   "version": "3.7.4"
  }
 },
 "nbformat": 4,
 "nbformat_minor": 4
}
